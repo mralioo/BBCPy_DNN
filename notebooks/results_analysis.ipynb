{
 "cells": [
  {
   "cell_type": "code",
   "execution_count": 1,
   "id": "63b2e70f-b950-4b1a-8bc9-93585e912d84",
   "metadata": {},
   "outputs": [],
   "source": [
    "import pandas as pd\n",
    "import scipy.stats as stats"
   ]
  },
  {
   "cell_type": "code",
   "execution_count": 2,
   "id": "2901fe26-cc2f-4fd3-916d-3e1580c24c1d",
   "metadata": {},
   "outputs": [
    {
     "name": "stdout",
     "output_type": "stream",
     "text": [
      "Collecting img2pdf\n",
      "  Downloading img2pdf-0.4.4.tar.gz (97 kB)\n",
      "     ---------------------------------------- 0.0/97.8 kB ? eta -:--:--\n",
      "     ------------------------------------- -- 92.2/97.8 kB 5.1 MB/s eta 0:00:01\n",
      "     ------------------------------------- -- 92.2/97.8 kB 5.1 MB/s eta 0:00:01\n",
      "     ------------------------------------- -- 92.2/97.8 kB 5.1 MB/s eta 0:00:01\n",
      "     -------------------------------------- 97.8/97.8 kB 557.7 kB/s eta 0:00:00\n",
      "  Installing build dependencies: started\n",
      "  Installing build dependencies: finished with status 'done'\n",
      "  Getting requirements to build wheel: started\n",
      "  Getting requirements to build wheel: finished with status 'done'\n",
      "  Preparing metadata (pyproject.toml): started\n",
      "  Preparing metadata (pyproject.toml): finished with status 'done'\n",
      "Requirement already satisfied: Pillow in c:\\users\\alioo\\desktop\\ma\\bbcpy_automl\\bbcpy_env\\lib\\site-packages (from img2pdf) (10.0.0)\n",
      "Collecting pikepdf (from img2pdf)\n",
      "  Obtaining dependency information for pikepdf from https://files.pythonhosted.org/packages/81/c5/28f5894e3e7649a88ec40e3cf9fe1346d238483c1b26008862474892b364/pikepdf-8.4.1-cp310-cp310-win_amd64.whl.metadata\n",
      "  Downloading pikepdf-8.4.1-cp310-cp310-win_amd64.whl.metadata (8.9 kB)\n",
      "Collecting deprecation (from pikepdf->img2pdf)\n",
      "  Downloading deprecation-2.1.0-py2.py3-none-any.whl (11 kB)\n",
      "Collecting lxml>=4.8 (from pikepdf->img2pdf)\n",
      "  Obtaining dependency information for lxml>=4.8 from https://files.pythonhosted.org/packages/50/ba/cb7bc9728a3be4e00dfd658fc76dc64fd9dbc3d5492ff44cda70574329c6/lxml-4.9.3-cp310-cp310-win_amd64.whl.metadata\n",
      "  Downloading lxml-4.9.3-cp310-cp310-win_amd64.whl.metadata (3.9 kB)\n",
      "Requirement already satisfied: packaging in c:\\users\\alioo\\desktop\\ma\\bbcpy_automl\\bbcpy_env\\lib\\site-packages (from pikepdf->img2pdf) (23.1)\n",
      "Downloading pikepdf-8.4.1-cp310-cp310-win_amd64.whl (3.4 MB)\n",
      "   ---------------------------------------- 0.0/3.4 MB ? eta -:--:--\n",
      "   ----- ---------------------------------- 0.4/3.4 MB 8.9 MB/s eta 0:00:01\n",
      "   ---------- ----------------------------- 0.8/3.4 MB 10.8 MB/s eta 0:00:01\n",
      "   -------------- ------------------------- 1.2/3.4 MB 9.8 MB/s eta 0:00:01\n",
      "   ------------------------ --------------- 2.0/3.4 MB 11.7 MB/s eta 0:00:01\n",
      "   ------------------------------ --------- 2.6/3.4 MB 11.8 MB/s eta 0:00:01\n",
      "   ------------------------------------- -- 3.1/3.4 MB 11.7 MB/s eta 0:00:01\n",
      "   ---------------------------------------  3.3/3.4 MB 11.9 MB/s eta 0:00:01\n",
      "   ---------------------------------------  3.3/3.4 MB 11.9 MB/s eta 0:00:01\n",
      "   ---------------------------------------  3.3/3.4 MB 11.9 MB/s eta 0:00:01\n",
      "   ---------------------------------------  3.3/3.4 MB 11.9 MB/s eta 0:00:01\n",
      "   ---------------------------------------  3.3/3.4 MB 11.9 MB/s eta 0:00:01\n",
      "   ---------------------------------------  3.3/3.4 MB 11.9 MB/s eta 0:00:01\n",
      "   ---------------------------------------  3.3/3.4 MB 11.9 MB/s eta 0:00:01\n",
      "   ---------------------------------------  3.3/3.4 MB 11.9 MB/s eta 0:00:01\n",
      "   ---------------------------------------  3.3/3.4 MB 11.9 MB/s eta 0:00:01\n",
      "   ---------------------------------------  3.3/3.4 MB 11.9 MB/s eta 0:00:01\n",
      "   ---------------------------------------  3.3/3.4 MB 11.9 MB/s eta 0:00:01\n",
      "   ---------------------------------------  3.3/3.4 MB 11.9 MB/s eta 0:00:01\n",
      "   ---------------------------------------  3.3/3.4 MB 11.9 MB/s eta 0:00:01\n",
      "   ---------------------------------------  3.3/3.4 MB 11.9 MB/s eta 0:00:01\n",
      "   ---------------------------------------  3.3/3.4 MB 11.9 MB/s eta 0:00:01\n",
      "   ---------------------------------------  3.3/3.4 MB 11.9 MB/s eta 0:00:01\n",
      "   ---------------------------------------  3.3/3.4 MB 11.9 MB/s eta 0:00:01\n",
      "   ---------------------------------------  3.3/3.4 MB 11.9 MB/s eta 0:00:01\n",
      "   ---------------------------------------  3.3/3.4 MB 11.9 MB/s eta 0:00:01\n",
      "   ---------------------------------------  3.3/3.4 MB 11.9 MB/s eta 0:00:01\n",
      "   ---------------------------------------  3.3/3.4 MB 11.9 MB/s eta 0:00:01\n",
      "   ---------------------------------------  3.3/3.4 MB 11.9 MB/s eta 0:00:01\n",
      "   ---------------------------------------  3.3/3.4 MB 11.9 MB/s eta 0:00:01\n",
      "   ---------------------------------------  3.3/3.4 MB 11.9 MB/s eta 0:00:01\n",
      "   ---------------------------------------  3.3/3.4 MB 11.9 MB/s eta 0:00:01\n",
      "   ---------------------------------------  3.3/3.4 MB 11.9 MB/s eta 0:00:01\n",
      "   ---------------------------------------  3.3/3.4 MB 11.9 MB/s eta 0:00:01\n",
      "   ---------------------------------------  3.3/3.4 MB 11.9 MB/s eta 0:00:01\n",
      "   ---------------------------------------  3.3/3.4 MB 11.9 MB/s eta 0:00:01\n",
      "   ---------------------------------------  3.3/3.4 MB 11.9 MB/s eta 0:00:01\n",
      "   ---------------------------------------  3.3/3.4 MB 11.9 MB/s eta 0:00:01\n",
      "   ---------------------------------------  3.3/3.4 MB 11.9 MB/s eta 0:00:01\n",
      "   ---------------------------------------  3.3/3.4 MB 11.9 MB/s eta 0:00:01\n",
      "   ---------------------------------------  3.3/3.4 MB 11.9 MB/s eta 0:00:01\n",
      "   ---------------------------------------  3.3/3.4 MB 11.9 MB/s eta 0:00:01\n",
      "   ---------------------------------------  3.3/3.4 MB 11.9 MB/s eta 0:00:01\n",
      "   ---------------------------------------  3.3/3.4 MB 11.9 MB/s eta 0:00:01\n",
      "   ---------------------------------------  3.3/3.4 MB 11.9 MB/s eta 0:00:01\n",
      "   ---------------------------------------  3.3/3.4 MB 11.9 MB/s eta 0:00:01\n",
      "   ---------------------------------------  3.3/3.4 MB 11.9 MB/s eta 0:00:01\n",
      "   ---------------------------------------- 3.4/3.4 MB 1.6 MB/s eta 0:00:00\n",
      "Downloading lxml-4.9.3-cp310-cp310-win_amd64.whl (3.8 MB)\n",
      "   ---------------------------------------- 0.0/3.8 MB ? eta -:--:--\n",
      "   ------ --------------------------------- 0.6/3.8 MB 18.5 MB/s eta 0:00:01\n",
      "   ----------- ---------------------------- 1.0/3.8 MB 16.7 MB/s eta 0:00:01\n",
      "   ---------------- ----------------------- 1.6/3.8 MB 12.5 MB/s eta 0:00:01\n",
      "   ---------------------- ----------------- 2.1/3.8 MB 12.2 MB/s eta 0:00:01\n",
      "   ---------------------------- ----------- 2.7/3.8 MB 13.3 MB/s eta 0:00:01\n",
      "   ---------------------------------- ----- 3.3/3.8 MB 12.2 MB/s eta 0:00:01\n",
      "   ---------------------------------------  3.8/3.8 MB 12.1 MB/s eta 0:00:01\n",
      "   ---------------------------------------  3.8/3.8 MB 12.1 MB/s eta 0:00:01\n",
      "   ---------------------------------------  3.8/3.8 MB 12.1 MB/s eta 0:00:01\n",
      "   ---------------------------------------  3.8/3.8 MB 12.1 MB/s eta 0:00:01\n",
      "   ---------------------------------------  3.8/3.8 MB 12.1 MB/s eta 0:00:01\n",
      "   ---------------------------------------  3.8/3.8 MB 12.1 MB/s eta 0:00:01\n",
      "   ---------------------------------------  3.8/3.8 MB 12.1 MB/s eta 0:00:01\n",
      "   ---------------------------------------  3.8/3.8 MB 12.1 MB/s eta 0:00:01\n",
      "   ---------------------------------------  3.8/3.8 MB 12.1 MB/s eta 0:00:01\n",
      "   ---------------------------------------  3.8/3.8 MB 12.1 MB/s eta 0:00:01\n",
      "   ---------------------------------------  3.8/3.8 MB 12.1 MB/s eta 0:00:01\n",
      "   ---------------------------------------  3.8/3.8 MB 12.1 MB/s eta 0:00:01\n",
      "   ---------------------------------------  3.8/3.8 MB 12.1 MB/s eta 0:00:01\n",
      "   ---------------------------------------  3.8/3.8 MB 12.1 MB/s eta 0:00:01\n",
      "   ---------------------------------------  3.8/3.8 MB 12.1 MB/s eta 0:00:01\n",
      "   ---------------------------------------  3.8/3.8 MB 12.1 MB/s eta 0:00:01\n",
      "   ---------------------------------------  3.8/3.8 MB 12.1 MB/s eta 0:00:01\n",
      "   ---------------------------------------  3.8/3.8 MB 12.1 MB/s eta 0:00:01\n",
      "   ---------------------------------------  3.8/3.8 MB 12.1 MB/s eta 0:00:01\n",
      "   ---------------------------------------  3.8/3.8 MB 12.1 MB/s eta 0:00:01\n",
      "   ---------------------------------------  3.8/3.8 MB 12.1 MB/s eta 0:00:01\n",
      "   ---------------------------------------  3.8/3.8 MB 12.1 MB/s eta 0:00:01\n",
      "   ---------------------------------------  3.8/3.8 MB 12.1 MB/s eta 0:00:01\n",
      "   ---------------------------------------  3.8/3.8 MB 12.1 MB/s eta 0:00:01\n",
      "   ---------------------------------------  3.8/3.8 MB 12.1 MB/s eta 0:00:01\n",
      "   ---------------------------------------  3.8/3.8 MB 12.1 MB/s eta 0:00:01\n",
      "   ---------------------------------------  3.8/3.8 MB 12.1 MB/s eta 0:00:01\n",
      "   ---------------------------------------  3.8/3.8 MB 12.1 MB/s eta 0:00:01\n",
      "   ---------------------------------------  3.8/3.8 MB 12.1 MB/s eta 0:00:01\n",
      "   ---------------------------------------  3.8/3.8 MB 12.1 MB/s eta 0:00:01\n",
      "   ---------------------------------------  3.8/3.8 MB 12.1 MB/s eta 0:00:01\n",
      "   ---------------------------------------  3.8/3.8 MB 12.1 MB/s eta 0:00:01\n",
      "   ---------------------------------------  3.8/3.8 MB 12.1 MB/s eta 0:00:01\n",
      "   ---------------------------------------  3.8/3.8 MB 12.1 MB/s eta 0:00:01\n",
      "   ---------------------------------------  3.8/3.8 MB 12.1 MB/s eta 0:00:01\n",
      "   ---------------------------------------  3.8/3.8 MB 12.1 MB/s eta 0:00:01\n",
      "   ---------------------------------------  3.8/3.8 MB 12.1 MB/s eta 0:00:01\n",
      "   ---------------------------------------  3.8/3.8 MB 12.1 MB/s eta 0:00:01\n",
      "   ---------------------------------------  3.8/3.8 MB 12.1 MB/s eta 0:00:01\n",
      "   ---------------------------------------  3.8/3.8 MB 12.1 MB/s eta 0:00:01\n",
      "   ---------------------------------------  3.8/3.8 MB 12.1 MB/s eta 0:00:01\n",
      "   ---------------------------------------  3.8/3.8 MB 12.1 MB/s eta 0:00:01\n",
      "   ---------------------------------------  3.8/3.8 MB 12.1 MB/s eta 0:00:01\n",
      "   ---------------------------------------  3.8/3.8 MB 12.1 MB/s eta 0:00:01\n",
      "   ---------------------------------------  3.8/3.8 MB 12.1 MB/s eta 0:00:01\n",
      "   ---------------------------------------  3.8/3.8 MB 12.1 MB/s eta 0:00:01\n",
      "   ---------------------------------------  3.8/3.8 MB 12.1 MB/s eta 0:00:01\n",
      "   ---------------------------------------  3.8/3.8 MB 12.1 MB/s eta 0:00:01\n",
      "   ---------------------------------------  3.8/3.8 MB 12.1 MB/s eta 0:00:01\n",
      "   ---------------------------------------  3.8/3.8 MB 12.1 MB/s eta 0:00:01\n",
      "   ---------------------------------------  3.8/3.8 MB 12.1 MB/s eta 0:00:01\n",
      "   ---------------------------------------  3.8/3.8 MB 12.1 MB/s eta 0:00:01\n",
      "   ---------------------------------------  3.8/3.8 MB 12.1 MB/s eta 0:00:01\n",
      "   ---------------------------------------  3.8/3.8 MB 12.1 MB/s eta 0:00:01\n",
      "   ---------------------------------------  3.8/3.8 MB 12.1 MB/s eta 0:00:01\n",
      "   ---------------------------------------  3.8/3.8 MB 12.1 MB/s eta 0:00:01\n",
      "   ---------------------------------------  3.8/3.8 MB 12.1 MB/s eta 0:00:01\n",
      "   ---------------------------------------  3.8/3.8 MB 12.1 MB/s eta 0:00:01\n",
      "   ---------------------------------------  3.8/3.8 MB 12.1 MB/s eta 0:00:01\n",
      "   ---------------------------------------  3.8/3.8 MB 12.1 MB/s eta 0:00:01\n",
      "   ---------------------------------------  3.8/3.8 MB 12.1 MB/s eta 0:00:01\n",
      "   ---------------------------------------  3.8/3.8 MB 12.1 MB/s eta 0:00:01\n",
      "   ---------------------------------------  3.8/3.8 MB 12.1 MB/s eta 0:00:01\n",
      "   ---------------------------------------  3.8/3.8 MB 12.1 MB/s eta 0:00:01\n",
      "   ---------------------------------------  3.8/3.8 MB 12.1 MB/s eta 0:00:01\n",
      "   ---------------------------------------  3.8/3.8 MB 12.1 MB/s eta 0:00:01\n",
      "   ---------------------------------------  3.8/3.8 MB 12.1 MB/s eta 0:00:01\n",
      "   ---------------------------------------  3.8/3.8 MB 12.1 MB/s eta 0:00:01\n",
      "   ---------------------------------------  3.8/3.8 MB 12.1 MB/s eta 0:00:01\n",
      "   ---------------------------------------  3.8/3.8 MB 12.1 MB/s eta 0:00:01\n",
      "   ---------------------------------------  3.8/3.8 MB 12.1 MB/s eta 0:00:01\n",
      "   ---------------------------------------  3.8/3.8 MB 12.1 MB/s eta 0:00:01\n",
      "   ---------------------------------------  3.8/3.8 MB 12.1 MB/s eta 0:00:01\n",
      "   ---------------------------------------  3.8/3.8 MB 12.1 MB/s eta 0:00:01\n",
      "   ---------------------------------------  3.8/3.8 MB 12.1 MB/s eta 0:00:01\n",
      "   ---------------------------------------  3.8/3.8 MB 12.1 MB/s eta 0:00:01\n",
      "   ---------------------------------------  3.8/3.8 MB 12.1 MB/s eta 0:00:01\n",
      "   ---------------------------------------  3.8/3.8 MB 12.1 MB/s eta 0:00:01\n",
      "   ---------------------------------------  3.8/3.8 MB 12.1 MB/s eta 0:00:01\n",
      "   ---------------------------------------  3.8/3.8 MB 12.1 MB/s eta 0:00:01\n",
      "   ---------------------------------------  3.8/3.8 MB 12.1 MB/s eta 0:00:01\n",
      "   ---------------------------------------  3.8/3.8 MB 12.1 MB/s eta 0:00:01\n",
      "   ---------------------------------------  3.8/3.8 MB 12.1 MB/s eta 0:00:01\n",
      "   ---------------------------------------  3.8/3.8 MB 12.1 MB/s eta 0:00:01\n",
      "   ---------------------------------------  3.8/3.8 MB 12.1 MB/s eta 0:00:01\n",
      "   ---------------------------------------  3.8/3.8 MB 12.1 MB/s eta 0:00:01\n",
      "   ---------------------------------------  3.8/3.8 MB 12.1 MB/s eta 0:00:01\n",
      "   ---------------------------------------  3.8/3.8 MB 12.1 MB/s eta 0:00:01\n",
      "   ---------------------------------------  3.8/3.8 MB 12.1 MB/s eta 0:00:01\n",
      "   ---------------------------------------  3.8/3.8 MB 12.1 MB/s eta 0:00:01\n",
      "   ---------------------------------------  3.8/3.8 MB 12.1 MB/s eta 0:00:01\n",
      "   ---------------------------------------  3.8/3.8 MB 12.1 MB/s eta 0:00:01\n",
      "   ---------------------------------------  3.8/3.8 MB 12.1 MB/s eta 0:00:01\n",
      "   ---------------------------------------  3.8/3.8 MB 12.1 MB/s eta 0:00:01\n",
      "   ---------------------------------------  3.8/3.8 MB 12.1 MB/s eta 0:00:01\n",
      "   ---------------------------------------  3.8/3.8 MB 12.1 MB/s eta 0:00:01\n",
      "   ---------------------------------------  3.8/3.8 MB 12.1 MB/s eta 0:00:01\n",
      "   ---------------------------------------  3.8/3.8 MB 12.1 MB/s eta 0:00:01\n",
      "   ---------------------------------------  3.8/3.8 MB 12.1 MB/s eta 0:00:01\n",
      "   ---------------------------------------  3.8/3.8 MB 12.1 MB/s eta 0:00:01\n",
      "   ---------------------------------------  3.8/3.8 MB 12.1 MB/s eta 0:00:01\n",
      "   ---------------------------------------  3.8/3.8 MB 12.1 MB/s eta 0:00:01\n",
      "   ---------------------------------------  3.8/3.8 MB 12.1 MB/s eta 0:00:01\n",
      "   ---------------------------------------  3.8/3.8 MB 12.1 MB/s eta 0:00:01\n",
      "   ---------------------------------------  3.8/3.8 MB 12.1 MB/s eta 0:00:01\n",
      "   ---------------------------------------  3.8/3.8 MB 12.1 MB/s eta 0:00:01\n",
      "   ---------------------------------------  3.8/3.8 MB 12.1 MB/s eta 0:00:01\n",
      "   ---------------------------------------  3.8/3.8 MB 12.1 MB/s eta 0:00:01\n",
      "   ---------------------------------------  3.8/3.8 MB 12.1 MB/s eta 0:00:01\n",
      "   ---------------------------------------  3.8/3.8 MB 12.1 MB/s eta 0:00:01\n",
      "   ---------------------------------------  3.8/3.8 MB 12.1 MB/s eta 0:00:01\n",
      "   ---------------------------------------  3.8/3.8 MB 12.1 MB/s eta 0:00:01\n",
      "   ---------------------------------------  3.8/3.8 MB 12.1 MB/s eta 0:00:01\n",
      "   ---------------------------------------  3.8/3.8 MB 12.1 MB/s eta 0:00:01\n",
      "   ---------------------------------------  3.8/3.8 MB 12.1 MB/s eta 0:00:01\n",
      "   ---------------------------------------  3.8/3.8 MB 12.1 MB/s eta 0:00:01\n",
      "   ---------------------------------------  3.8/3.8 MB 12.1 MB/s eta 0:00:01\n",
      "   ---------------------------------------  3.8/3.8 MB 12.1 MB/s eta 0:00:01\n",
      "   ---------------------------------------  3.8/3.8 MB 12.1 MB/s eta 0:00:01\n",
      "   ---------------------------------------  3.8/3.8 MB 12.1 MB/s eta 0:00:01\n",
      "   ---------------------------------------  3.8/3.8 MB 12.1 MB/s eta 0:00:01\n",
      "   ---------------------------------------  3.8/3.8 MB 12.1 MB/s eta 0:00:01\n",
      "   ---------------------------------------  3.8/3.8 MB 12.1 MB/s eta 0:00:01\n",
      "   ---------------------------------------  3.8/3.8 MB 12.1 MB/s eta 0:00:01\n",
      "   ---------------------------------------  3.8/3.8 MB 12.1 MB/s eta 0:00:01\n",
      "   ---------------------------------------  3.8/3.8 MB 12.1 MB/s eta 0:00:01\n",
      "   ---------------------------------------  3.8/3.8 MB 12.1 MB/s eta 0:00:01\n",
      "   ---------------------------------------  3.8/3.8 MB 12.1 MB/s eta 0:00:01\n",
      "   ---------------------------------------  3.8/3.8 MB 12.1 MB/s eta 0:00:01\n",
      "   ---------------------------------------  3.8/3.8 MB 12.1 MB/s eta 0:00:01\n",
      "   ---------------------------------------  3.8/3.8 MB 12.1 MB/s eta 0:00:01\n",
      "   ---------------------------------------- 3.8/3.8 MB 603.6 kB/s eta 0:00:00\n",
      "Building wheels for collected packages: img2pdf\n",
      "  Building wheel for img2pdf (pyproject.toml): started\n",
      "  Building wheel for img2pdf (pyproject.toml): finished with status 'done'\n",
      "  Created wheel for img2pdf: filename=img2pdf-0.4.4-py3-none-any.whl size=44921 sha256=e0470e973d565d3125ad6806f0066c041a6ec9b0733cf5e80ebc1c51dc862786\n",
      "  Stored in directory: c:\\users\\alioo\\appdata\\local\\pip\\cache\\wheels\\0b\\85\\be\\a7faed8033e47e5a653a2502b5494b1d613bcd075c99b8152e\n",
      "Successfully built img2pdf\n",
      "Installing collected packages: lxml, deprecation, pikepdf, img2pdf\n",
      "Successfully installed deprecation-2.1.0 img2pdf-0.4.4 lxml-4.9.3 pikepdf-8.4.1\n"
     ]
    }
   ],
   "source": [
    "! pip install img2pdf"
   ]
  },
  {
   "cell_type": "code",
   "execution_count": 4,
   "id": "1246ec90-d409-413a-9506-bfc8747db445",
   "metadata": {},
   "outputs": [
    {
     "name": "stdout",
     "output_type": "stream",
     "text": [
      "Successfully made pdf file\n"
     ]
    }
   ],
   "source": [
    "import img2pdf\n",
    "from PIL import Image\n",
    "import os\n",
    " \n",
    "# storing image path\n",
    "img_path = \"./WhatsApp Image 2023-10-02 at 12.15.49_280c67c8.jpg\"\n",
    " \n",
    "# storing pdf path\n",
    "pdf_path = \"./presp.pdf\"\n",
    "\n",
    "# opening image\n",
    "image = Image.open(img_path)\n",
    " \n",
    "# converting into chunks using img2pdf\n",
    "pdf_bytes = img2pdf.convert(image.filename)\n",
    " \n",
    "# opening or creating pdf file\n",
    "file = open(pdf_path, \"wb\")\n",
    " \n",
    "# writing pdf files with chunks\n",
    "file.write(pdf_bytes)\n",
    " \n",
    "# closing image file\n",
    "image.close()\n",
    " \n",
    "# closing pdf file\n",
    "file.close()\n",
    " \n",
    "# output\n",
    "print(\"Successfully made pdf file\")"
   ]
  },
  {
   "cell_type": "markdown",
   "id": "9fb11c05-7bf8-4bd6-a265-08808b3759d5",
   "metadata": {},
   "source": [
    "## ANOVA (Analysis of Variance)  (Dataset)"
   ]
  },
  {
   "cell_type": "markdown",
   "id": "a0a7d0e8-48d8-4e02-b58a-4328f6bb36a4",
   "metadata": {},
   "source": [
    "\n",
    "ANOVA (Analysis of Variance) is a statistical test used to compare the means of two or more groups to determine if there are any statistically significant differences between them. It is commonly used when you have multiple groups and want to understand whether the variation between the group means is greater than the variation within the groups."
   ]
  },
  {
   "cell_type": "code",
   "execution_count": null,
   "id": "e883f900-5b0e-457f-8e13-de58f238ccaf",
   "metadata": {},
   "outputs": [],
   "source": []
  },
  {
   "cell_type": "code",
   "execution_count": 2,
   "id": "bc303334-58fd-4ea2-b65a-df4d3b29384e",
   "metadata": {},
   "outputs": [],
   "source": [
    "# Assuming you have three groups, you can add more groups as needed.\n",
    "group1 = [10, 12, 14, 16, 18]\n",
    "group2 = [20, 22, 24, 26, 28]\n",
    "group3 = [30, 32, 34, 36, 38]\n",
    "\n",
    "# Perform the ANOVA\n",
    "f_statistic, p_value = stats.f_oneway(group1, group2, group3)"
   ]
  },
  {
   "cell_type": "code",
   "execution_count": 3,
   "id": "54468898-76dc-4c1c-9ade-b43d46b55ec9",
   "metadata": {},
   "outputs": [
    {
     "name": "stdout",
     "output_type": "stream",
     "text": [
      "Reject null hypothesis: There is a significant difference between the group means.\n"
     ]
    }
   ],
   "source": [
    "alpha = 0.05  # Set your significance level\n",
    "if p_value < alpha:\n",
    "    print(\"Reject null hypothesis: There is a significant difference between the group means.\")\n",
    "else:\n",
    "    print(\"Fail to reject null hypothesis: There is no significant difference between the group means.\")"
   ]
  },
  {
   "cell_type": "markdown",
   "id": "c2c0f67b-d734-4a16-a2ec-5985b5a51b53",
   "metadata": {},
   "source": [
    "In this example, if the p-value is less than the significance level (usually 0.05), you can conclude that there is a significant difference between at least one pair of groups.\n",
    "\n",
    "Keep in mind that ANOVA assumes the data follows a normal distribution and has equal variances between groups. If your data violates these assumptions, you might consider using non-parametric tests or data transformations before applying ANOVA."
   ]
  },
  {
   "cell_type": "code",
   "execution_count": 4,
   "id": "2f63b77f-c787-49d1-b68d-40de3fe54ecf",
   "metadata": {},
   "outputs": [
    {
     "ename": "ModuleNotFoundError",
     "evalue": "No module named 'seaborn'",
     "output_type": "error",
     "traceback": [
      "\u001b[1;31m---------------------------------------------------------------------------\u001b[0m",
      "\u001b[1;31mModuleNotFoundError\u001b[0m                       Traceback (most recent call last)",
      "Cell \u001b[1;32mIn[4], line 1\u001b[0m\n\u001b[1;32m----> 1\u001b[0m \u001b[38;5;28;01mimport\u001b[39;00m \u001b[38;5;21;01mseaborn\u001b[39;00m \u001b[38;5;28;01mas\u001b[39;00m \u001b[38;5;21;01msns\u001b[39;00m\n\u001b[0;32m      2\u001b[0m \u001b[38;5;28;01mimport\u001b[39;00m \u001b[38;5;21;01mmatplotlib\u001b[39;00m\u001b[38;5;21;01m.\u001b[39;00m\u001b[38;5;21;01mpyplot\u001b[39;00m \u001b[38;5;28;01mas\u001b[39;00m \u001b[38;5;21;01mplt\u001b[39;00m\n\u001b[0;32m      4\u001b[0m \u001b[38;5;66;03m# Assuming you have a DataFrame with 'group' column and 'metric' column\u001b[39;00m\n\u001b[0;32m      5\u001b[0m \u001b[38;5;66;03m# df = pd.DataFrame({'group': ['A']*5 + ['B']*5 + ['C']*5, 'metric': [10, 12, 14, 16, 18, 20, 22, 24, 26, 28, 30, 32, 34, 36, 38]})\u001b[39;00m\n\u001b[0;32m      6\u001b[0m \n\u001b[0;32m      7\u001b[0m \u001b[38;5;66;03m# Bar plot\u001b[39;00m\n",
      "\u001b[1;31mModuleNotFoundError\u001b[0m: No module named 'seaborn'"
     ]
    }
   ],
   "source": [
    "import seaborn as sns\n",
    "import matplotlib.pyplot as plt\n",
    "\n",
    "# Assuming you have a DataFrame with 'group' column and 'metric' column\n",
    "# df = pd.DataFrame({'group': ['A']*5 + ['B']*5 + ['C']*5, 'metric': [10, 12, 14, 16, 18, 20, 22, 24, 26, 28, 30, 32, 34, 36, 38]})\n",
    "\n",
    "# Bar plot\n",
    "sns.barplot(x='group', y='metric', data=df)\n",
    "plt.title('Bar Plot')\n",
    "plt.show()\n",
    "\n",
    "# Box plot\n",
    "sns.boxplot(x='group', y='metric', data=df)\n",
    "plt.title('Box Plot')\n",
    "plt.show()\n",
    "\n",
    "# Violin plot\n",
    "sns.violinplot(x='group', y='metric', data=df)\n",
    "plt.title('Violin Plot')\n",
    "plt.show()"
   ]
  },
  {
   "cell_type": "raw",
   "id": "b9016aaa5075542e",
   "metadata": {
    "collapsed": false,
    "jupyter": {
     "outputs_hidden": false
    }
   },
   "source": [
    "## MLflow results "
   ]
  },
  {
   "cell_type": "code",
   "execution_count": null,
   "id": "9c909d8511548b76",
   "metadata": {
    "collapsed": false,
    "is_executing": true,
    "jupyter": {
     "outputs_hidden": false
    }
   },
   "outputs": [],
   "source": [
    "import mlflow\n",
    "\n",
    "# Set MLflow tracking URI if it's not the default one\n",
    "mlflow.set_tracking_uri(\"your_mlflow_tracking_uri\")\n",
    "\n",
    "# Fetch all runs for a specific experiment\n",
    "experiment_id = \"your_experiment_id\"\n",
    "runs = mlflow.search_runs(experiment_ids=[experiment_id], filter_string=\"\", max_results=1000)\n",
    "\n",
    "# `runs` is a DataFrame with one row for each run\n"
   ]
  },
  {
   "cell_type": "code",
   "execution_count": null,
   "id": "970be8686dfbc074",
   "metadata": {
    "collapsed": false,
    "jupyter": {
     "outputs_hidden": false
    }
   },
   "outputs": [],
   "source": [
    "import pandas as pd\n",
    "\n",
    "# Let's say you logged \"accuracy\" for each model and dataset\n",
    "# Assuming you have a tag or parameter named \"model_name\" and \"dataset_name\"\n",
    "df = runs[[\"params.model_name\", \"params.dataset_name\", \"metrics.accuracy\"]]\n",
    "\n",
    "# Pivot the data to have datasets as columns, model names as index, and accuracies as values\n",
    "df_pivot = df.pivot_table(index=\"params.model_name\", columns=\"params.dataset_name\", values=\"metrics.accuracy\", aggfunc=list).transpose()\n",
    " "
   ]
  },
  {
   "cell_type": "code",
   "execution_count": null,
   "id": "64b77d02c7fc7335",
   "metadata": {
    "collapsed": false,
    "jupyter": {
     "outputs_hidden": false
    }
   },
   "outputs": [],
   "source": [
    "import seaborn as sns\n",
    "import matplotlib.pyplot as plt\n",
    "\n",
    "plt.figure(figsize=(12, 8))\n",
    "sns.boxplot(data=df_pivot)\n",
    "plt.title(\"Model Comparison across Datasets\")\n",
    "plt.ylabel(\"Accuracy\")\n",
    "plt.xlabel(\"Model Name\")\n",
    "plt.xticks(rotation=45)\n",
    "plt.show()\n"
   ]
  }
 ],
 "metadata": {
  "kernelspec": {
   "display_name": "bbcpy_env",
   "language": "python",
   "name": "bbcpy_env"
  },
  "language_info": {
   "codemirror_mode": {
    "name": "ipython",
    "version": 3
   },
   "file_extension": ".py",
   "mimetype": "text/x-python",
   "name": "python",
   "nbconvert_exporter": "python",
   "pygments_lexer": "ipython3",
   "version": "3.10.9"
  }
 },
 "nbformat": 4,
 "nbformat_minor": 5
}
