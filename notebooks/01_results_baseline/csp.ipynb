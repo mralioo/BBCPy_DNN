{
 "cells": [
  {
   "cell_type": "code",
   "execution_count": null,
   "id": "3a862cd2-de4c-49a8-85d0-89c218de4639",
   "metadata": {},
   "outputs": [],
   "source": [
    "import os\n",
    "import sys\n",
    "from pathlib import Path\n",
    "import numpy as np\n",
    "import matplotlib.pyplot as plt\n",
    "\n",
    "module_path = os.path.abspath(os.path.join('../../'))\n",
    "if module_path not in sys.path:\n",
    "    sys.path.append(module_path)\n",
    "from src.data.smr_datamodule import SMR_Data\n",
    "from src.utils.device import print_data_info\n",
    "import mne\n",
    "import bbcpy"
   ]
  },
  {
   "cell_type": "code",
   "execution_count": null,
   "id": "c16ed0d2-716e-4caf-9895-d2c50a5444c5",
   "metadata": {
    "scrolled": true
   },
   "outputs": [],
   "source": [
    "data_dir = Path(\"D:\\\\SMR\\\\\")\n",
    "task_name = \"LR\"\n",
    "subject_sessions_dict = {\"S5\": \"all\"}\n",
    "loading_data_mode = \"within_subject\"\n",
    "ival = \"2s:11s:2ms\"\n",
    "bands = [8, 13]\n",
    "chans = ['C?,~*3,~*4', 'FC*,~*3,~*4']\n",
    "# chans = \"*\"\n",
    "fallback_neighbors = 4\n",
    "transform = None\n",
    "normalize = {\"norm_type\": \"std\", \"norm_axis\": 0}\n",
    "# normalize = None\n",
    "\n",
    "process_noisy_channels = True\n",
    "ignore_noisy_sessions = False\n",
    "\n",
    "trial_type = \"valid\"\n",
    "\n",
    "smr_datamodule = SMR_Data(data_dir=data_dir,\n",
    "                          task_name=task_name,\n",
    "                          trial_type=trial_type,\n",
    "                          subject_sessions_dict=subject_sessions_dict,\n",
    "                          loading_data_mode=loading_data_mode,\n",
    "                          ival=ival,\n",
    "                          bands=bands,\n",
    "                          chans=chans,\n",
    "                          fallback_neighbors=fallback_neighbors,\n",
    "                          transform=transform,\n",
    "                          normalize=normalize,\n",
    "                          process_noisy_channels=process_noisy_channels,\n",
    "                          ignore_noisy_sessions=ignore_noisy_sessions)\n",
    "\n",
    "subjects_sessions_path_dict = smr_datamodule.collect_subject_sessions(subject_sessions_dict)"
   ]
  },
  {
   "cell_type": "code",
   "execution_count": null,
   "id": "9de63a33-bb2a-4a95-b5cf-334968ec9720",
   "metadata": {},
   "outputs": [],
   "source": [
    "smr_datamodule.prepare_dataloader_1()"
   ]
  },
  {
   "cell_type": "markdown",
   "id": "e765276a-cd15-4f1c-95c0-d166c22aba2c",
   "metadata": {},
   "source": [
    "# CSP"
   ]
  },
  {
   "cell_type": "code",
   "execution_count": null,
   "id": "b8b4d251-ed2f-45ff-8c87-dcb7898b6d24",
   "metadata": {},
   "outputs": [],
   "source": [
    "import numpy as np\n",
    "import matplotlib.pyplot as plt\n",
    "\n",
    "from sklearn.pipeline import Pipeline\n",
    "from sklearn.discriminant_analysis import LinearDiscriminantAnalysis\n",
    "from sklearn.model_selection import ShuffleSplit, cross_val_score\n",
    "\n",
    "from mne import Epochs, pick_types, events_from_annotations\n",
    "from mne.channels import make_standard_montage\n",
    "from mne.io import concatenate_raws, read_raw_edf\n",
    "from mne.datasets import eegbci\n",
    "from mne.decoding import CSP\n",
    "from sklearn.model_selection import KFold\n",
    "\n",
    "print(__doc__)\n",
    "\n",
    "# #############################################################################\n",
    "# # Set parameters and read data\n",
    "\n",
    "# avoid classification of evoked responses by using epochs that start 1s after\n",
    "# cue onset.\n",
    "tmin, tmax = -1.0, 4.0\n",
    "event_id = dict(Left=0, Right=1)\n",
    "train_data = smr_datamodule.train_data\n",
    "\n",
    "# Create an events array from train_data.y and event times\n",
    "events = []\n",
    "for i, label in enumerate(train_data.y):\n",
    "    events.append([i, 0, label])\n",
    "\n",
    "# Convert the events list to a NumPy array\n",
    "events = np.array(events)\n",
    "digitization_points = {ch:pos for ch, pos in zip(train_data.chans,train_data.chans.mnt)}\n",
    "\n",
    "eeg_data = train_data.data\n",
    "\n",
    "info['dig'] = mne.create_info(ch_names=train_data.chans,\n",
    "                              sfreq=train_data.fs,\n",
    "                              ch_types=['eeg'] * train_data.nCh,\n",
    "                              dig=digitization_points)\n",
    "\n",
    "# Create an EpochsArray object\n",
    "epochs = mne.EpochsArray(eeg_data, info, events=events, event_id = event_id)\n",
    "\n",
    "epochs_train = epochs.copy()\n",
    "labels = epochs.events[:, -1]"
   ]
  },
  {
   "cell_type": "code",
   "execution_count": null,
   "id": "70bf6f89-2a86-4e4f-9866-cccb08fbe4b9",
   "metadata": {},
   "outputs": [],
   "source": [
    "train_data.chans.mnt"
   ]
  },
  {
   "cell_type": "code",
   "execution_count": null,
   "id": "28c8c6d6-3f28-4c30-835a-f2589be01a77",
   "metadata": {},
   "outputs": [],
   "source": []
  },
  {
   "cell_type": "code",
   "execution_count": null,
   "id": "0749f2a7-15af-4e1c-bd44-39fc43289634",
   "metadata": {},
   "outputs": [],
   "source": [
    "digitization_points"
   ]
  },
  {
   "cell_type": "code",
   "execution_count": null,
   "id": "5866e418-3bb7-4386-9660-b14814cb9f35",
   "metadata": {},
   "outputs": [],
   "source": [
    "epochs_train.get_data().shape"
   ]
  },
  {
   "cell_type": "code",
   "execution_count": null,
   "id": "d8ac53cd-9dbd-4e94-96db-0adbafb51c13",
   "metadata": {},
   "outputs": [],
   "source": [
    "labels.shape"
   ]
  },
  {
   "cell_type": "code",
   "execution_count": null,
   "id": "60021ca9-f77d-4723-94c7-8812c68215c8",
   "metadata": {},
   "outputs": [],
   "source": [
    "# Define a monte-carlo cross-validation generator (reduce variance):\n",
    "scores = []\n",
    "epochs_data = epochs.get_data()\n",
    "epochs_data_train = epochs_train.get_data()\n",
    "\n",
    "cv = KFold(n_splits=6, shuffle=False)\n",
    "cv_split = cv.split(epochs_data_train)\n",
    "\n",
    "# Assemble a classifier\n",
    "lda = LinearDiscriminantAnalysis()\n",
    "csp = CSP(n_components=4, reg=None, log=True, norm_trace=False)\n",
    "\n",
    "# Use scikit-learn Pipeline with cross_val_score function\n",
    "clf = Pipeline([(\"CSP\", csp), (\"LDA\", lda)])\n",
    "scores = cross_val_score(clf, epochs_data_train, labels, cv=cv, n_jobs=None)\n",
    "\n",
    "# Printing the results\n",
    "class_balance = np.mean(labels == labels[0])\n",
    "class_balance = max(class_balance, 1.0 - class_balance)\n",
    "print(\n",
    "    \"Classification accuracy: %f / Chance level: %f\" % (np.mean(scores), class_balance)\n",
    ")"
   ]
  },
  {
   "cell_type": "code",
   "execution_count": null,
   "id": "0609eb96-6d07-4534-83c9-cfae107af4c2",
   "metadata": {},
   "outputs": [],
   "source": [
    "scores"
   ]
  },
  {
   "cell_type": "code",
   "execution_count": null,
   "id": "99079958-511b-42e9-8181-a856ba4c4ba4",
   "metadata": {},
   "outputs": [],
   "source": [
    "scores"
   ]
  },
  {
   "cell_type": "code",
   "execution_count": null,
   "id": "b3d6e5f5-a293-4f8c-af62-061c00aab2d3",
   "metadata": {},
   "outputs": [],
   "source": [
    "print(\n",
    "    \"Classification accuracy: %f / Chance level: %f\" % (np.mean(scores), class_balance)\n",
    ")"
   ]
  },
  {
   "cell_type": "code",
   "execution_count": null,
   "id": "adebe247-df35-423e-a1cf-1bca0a63bd8f",
   "metadata": {},
   "outputs": [],
   "source": [
    "epochs.info"
   ]
  },
  {
   "cell_type": "code",
   "execution_count": null,
   "id": "65fa594e-5ffd-4a18-b72b-1d9d65594071",
   "metadata": {},
   "outputs": [],
   "source": [
    "# plot CSP patterns estimated on full data for visualization\n",
    "csp.fit_transform(epochs_data, labels)"
   ]
  },
  {
   "cell_type": "code",
   "execution_count": null,
   "id": "a3ff23da-11c8-4345-bc8b-4afb35dcf965",
   "metadata": {},
   "outputs": [],
   "source": [
    "csp.filters_.shape"
   ]
  },
  {
   "cell_type": "code",
   "execution_count": null,
   "id": "a154eb3b-670c-4190-8dab-de1244d0e0dd",
   "metadata": {},
   "outputs": [],
   "source": [
    "csp.plot_filters(epochs.info, scalings=1e-9)"
   ]
  },
  {
   "cell_type": "code",
   "execution_count": null,
   "id": "380c2a2e-c20f-4dbc-99e8-075e9ef252b5",
   "metadata": {},
   "outputs": [],
   "source": [
    "csp.plot_patterns(epochs.info, ch_type=\"eeg\", units=\"Patterns (AU)\", size=1.5)"
   ]
  },
  {
   "cell_type": "code",
   "execution_count": null,
   "id": "962d2ba0-399a-45e9-8866-423ccaaf8498",
   "metadata": {},
   "outputs": [],
   "source": []
  }
 ],
 "metadata": {
  "kernelspec": {
   "display_name": "bbcpy_env",
   "language": "python",
   "name": "bbcpy_env"
  },
  "language_info": {
   "codemirror_mode": {
    "name": "ipython",
    "version": 3
   },
   "file_extension": ".py",
   "mimetype": "text/x-python",
   "name": "python",
   "nbconvert_exporter": "python",
   "pygments_lexer": "ipython3",
   "version": "3.10.9"
  }
 },
 "nbformat": 4,
 "nbformat_minor": 5
}
