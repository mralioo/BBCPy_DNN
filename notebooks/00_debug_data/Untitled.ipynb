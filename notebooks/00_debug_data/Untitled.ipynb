{
 "cells": [
  {
   "cell_type": "code",
   "execution_count": null,
   "id": "510b173b-aa33-40ed-9cd5-1d5b13f3c069",
   "metadata": {},
   "outputs": [],
   "source": [
    "import bbcpy\n",
    "import numpy as np\n",
    "from matplotlib import pyplot as plt\n",
    "from scipy import signal\n",
    "if __name__ == \"__main__\":\n",
    "    ival = [1000, 4500]\n",
    "    band = [10.5, 13]\n",
    "    imagVPaw = bbcpy.load.eeg.data(\"./local/data/imagVPaw/imagVPaw.npz\")\n",
    "\n",
    "    #examples for new advanced indexing:\n",
    "\n",
    "    #select all but some (here exclude all frontal and fronto-central) channels:\n",
    "    print(imagVPaw['~F*'].shape)\n",
    "    #can also be combined - selecting all frontal channels except for 7 and 8s e.g.:\n",
    "    print(imagVPaw[['F?', '~*7', '~*8']].shape)\n",
    "    print(imagVPaw[['F?,~*7,~*8']].chans)\n",
    "    #adding advanced slicing with units - e.g. 2s to 5s in steps of 100ms:\n",
    "    print(imagVPaw['~F*', '2s:5s:100ms'].shape)\n",
    "    #you may also select single time points:\n",
    "    print(imagVPaw[:, '2s,5s,100ms'].shape)\n",
    "    #the same can be separated in a list:\n",
    "    print(imagVPaw[:, ['2s', '5s', '100ms']].shape)\n",
    "\n",
    "    cnt_bp = imagVPaw.lfilter(band)\n",
    "    epo_bp = cnt_bp.epochs(ival)\n",
    "\n",
    "    #also works on epoched data, also with comma separation, each taken individually\n",
    "    print(epo_bp[:, ['C?,~*3,~*4', 'FC*,~*3,~*4']].chans)\n",
    "    print(epo_bp[:, ['C?,~*3,~*4', 'FC*,~*3,~*4'], '2s:4s:100ms'].shape)\n",
    "    #and also selecting classes\n",
    "    print(epo_bp[['left']].shape)\n",
    "    print(epo_bp['left'][:, ['C?,~*3,~*4', 'FC*,~*3,~*4']].shape)\n",
    "    #changing order of classes\n",
    "    print(epo_bp[['right', 'left']][:, ['C?,~*3,~*4', 'FC*,~*3,~*4'], '2s:4s:100ms'].shape)\n",
    "\n",
    "    hilbilly = bbcpy.functions.base.ImportFunc(signal.hilbert, outClass='same', axis=-1)\n",
    "    ERD1 = np.abs(hilbilly(cnt_bp)).epochs(ival)\n",
    "    plt.figure()\n",
    "    plt.subplot(131)\n",
    "    bbcpy.visual.scalp.map(imagVPaw, ERD1.classmean(0)[0, :, '3s'])\n",
    "    plt.subplot(132)\n",
    "    bbcpy.visual.scalp.map(imagVPaw, ERD1.classmean(1)[0, :, '3s'])\n",
    "    plt.subplot(133)\n",
    "    bbcpy.visual.scalp.map(imagVPaw, ERD1.classmean(1)[0, :, '3s'] - ERD1.classmean(0)[0, :, '3s'])\n",
    "    plt.figure()\n",
    "    plt.subplot(211)\n",
    "    plt.plot(ERD1.t, np.squeeze(ERD1.classmean()[:, 'C3']).T)\n",
    "    plt.subplot(212)\n",
    "    plt.plot(ERD1.t, np.squeeze(ERD1.classmean()[:, 'C4']).T)\n",
    "    plt.show()"
   ]
  }
 ],
 "metadata": {
  "kernelspec": {
   "display_name": "bbcpy_env",
   "language": "python",
   "name": "bbcpy_env"
  },
  "language_info": {
   "codemirror_mode": {
    "name": "ipython",
    "version": 3
   },
   "file_extension": ".py",
   "mimetype": "text/x-python",
   "name": "python",
   "nbconvert_exporter": "python",
   "pygments_lexer": "ipython3",
   "version": "3.10.9"
  }
 },
 "nbformat": 4,
 "nbformat_minor": 5
}
