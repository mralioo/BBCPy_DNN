{
 "cells": [
  {
   "cell_type": "code",
   "execution_count": 13,
   "id": "faf4d50b-67f2-4318-abda-d28ee4b27ddf",
   "metadata": {},
   "outputs": [],
   "source": [
    "import numpy as np \n",
    "import os \n",
    "import sys \n",
    "module_path = os.path.abspath(os.path.join('..'))\n",
    "if module_path not in sys.path:\n",
    "    sys.path.append(module_path)\n"
   ]
  },
  {
   "cell_type": "code",
   "execution_count": 14,
   "id": "db2574d0-23e6-4eb7-9543-dbbdbc95cc71",
   "metadata": {},
   "outputs": [],
   "source": [
    "from datasets.cont_smr import *  "
   ]
  },
  {
   "cell_type": "code",
   "execution_count": 4,
   "id": "c006f9df-288c-4a05-9311-5dfc281a44db",
   "metadata": {},
   "outputs": [],
   "source": [
    "DATA_PATH = os.path.join(module_path,\"data/SMR/raw\")"
   ]
  },
  {
   "cell_type": "code",
   "execution_count": 5,
   "id": "b9bf70f8-bd0d-45f5-bfca-55bfa31c9981",
   "metadata": {},
   "outputs": [
    {
     "data": {
      "text/plain": [
       "'/media/alioo/database/02_MA/MA/code/bbcpy_AutoML/data/SMR/raw'"
      ]
     },
     "execution_count": 5,
     "metadata": {},
     "output_type": "execute_result"
    }
   ],
   "source": [
    "DATA_PATH"
   ]
  },
  {
   "cell_type": "code",
   "execution_count": 8,
   "id": "bd3924f7-64a8-4000-8a8b-fe2ac7cdd2e9",
   "metadata": {},
   "outputs": [],
   "source": [
    "data, fs, clab, mnt, mrk_class, mrk_className, task_type, task_typeName, timepoints, trial_artifact = load_matlab_data_fast(subjectno=1, sessionno=1, data_path=DATA_PATH, outfile=False)"
   ]
  },
  {
   "cell_type": "code",
   "execution_count": 12,
   "id": "2d397732-baca-454f-9940-8bcd1eda71b4",
   "metadata": {},
   "outputs": [
    {
     "data": {
      "text/plain": [
       "(62, 11041)"
      ]
     },
     "execution_count": 12,
     "metadata": {},
     "output_type": "execute_result"
    }
   ],
   "source": [
    "data[0].shape"
   ]
  },
  {
   "cell_type": "code",
   "execution_count": null,
   "id": "8ef3c9f7-a128-4ef4-beaf-69b0a17a3b84",
   "metadata": {},
   "outputs": [],
   "source": []
  }
 ],
 "metadata": {
  "kernelspec": {
   "display_name": "Python 3",
   "language": "python",
   "name": "python3"
  },
  "language_info": {
   "codemirror_mode": {
    "name": "ipython",
    "version": 3
   },
   "file_extension": ".py",
   "mimetype": "text/x-python",
   "name": "python",
   "nbconvert_exporter": "python",
   "pygments_lexer": "ipython3",
   "version": "3.8.13"
  }
 },
 "nbformat": 4,
 "nbformat_minor": 5
}
