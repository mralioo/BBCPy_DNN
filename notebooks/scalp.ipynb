{
 "cells": [
  {
   "cell_type": "code",
   "execution_count": 1,
   "id": "fcd083df-d489-41d1-9a8d-4f31e800d704",
   "metadata": {},
   "outputs": [],
   "source": [
    "import numpy as np \n",
    "import math\n",
    "import os \n",
    "import sys \n",
    "import random\n",
    "import pandas as pd\n",
    "from tqdm import tqdm\n",
    "import copy\n",
    "\n",
    "from bbcpy.datatypes.utils import *\n",
    "from bbcpy.load.srm_eeg import *\n",
    "module_path = os.path.abspath(os.path.join('../../bbcpy_AutoML/'))\n",
    "if module_path not in sys.path:\n",
    "    sys.path.append(module_path)"
   ]
  },
  {
   "cell_type": "code",
   "execution_count": 2,
   "id": "78db2a1b-19f2-4258-9553-90a7a3676107",
   "metadata": {},
   "outputs": [],
   "source": [
    "from bbcpy.visual import scalp"
   ]
  },
  {
   "cell_type": "code",
   "execution_count": null,
   "id": "b1e37175-19df-4e50-9ddd-eaf8960e488e",
   "metadata": {},
   "outputs": [],
   "source": []
  }
 ],
 "metadata": {
  "kernelspec": {
   "display_name": "bbcpy_env",
   "language": "python",
   "name": "bbcpy_env"
  },
  "language_info": {
   "codemirror_mode": {
    "name": "ipython",
    "version": 3
   },
   "file_extension": ".py",
   "mimetype": "text/x-python",
   "name": "python",
   "nbconvert_exporter": "python",
   "pygments_lexer": "ipython3",
   "version": "3.10.9"
  }
 },
 "nbformat": 4,
 "nbformat_minor": 5
}
