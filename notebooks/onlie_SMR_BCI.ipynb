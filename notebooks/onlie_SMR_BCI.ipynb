{
 "cells": [
  {
   "cell_type": "code",
   "execution_count": 1,
   "id": "4731a7d3-0679-4596-a6c0-04f5eb15874a",
   "metadata": {},
   "outputs": [],
   "source": [
    "import tkinter as tk\n",
    "\n",
    "class CursorControlApp:\n",
    "    def __init__(self, master):\n",
    "        self.master = master\n",
    "        master.title(\"Cursor Control Emulation\")\n",
    "        \n",
    "        self.canvas_width = 400\n",
    "        self.canvas_height = 400\n",
    "        self.cursor_size = 10\n",
    "\n",
    "        self.canvas = tk.Canvas(master, width=self.canvas_width, height=self.canvas_height)\n",
    "        self.canvas.pack()\n",
    "\n",
    "        self.cursor = self.canvas.create_oval(self.canvas_width/2 - self.cursor_size/2, \n",
    "                                              self.canvas_height/2 - self.cursor_size/2,\n",
    "                                              self.canvas_width/2 + self.cursor_size/2,\n",
    "                                              self.canvas_height/2 + self.cursor_size/2, fill=\"blue\")\n",
    "\n",
    "        self.master.bind(\"<Left>\", self.move_left)\n",
    "        self.master.bind(\"<Right>\", self.move_right)\n",
    "\n",
    "    def move_left(self, event):\n",
    "        self.canvas.move(self.cursor, -10, 0)\n",
    "\n",
    "    def move_right(self, event):\n",
    "        self.canvas.move(self.cursor, 10, 0)\n",
    "\n",
    "\n"
   ]
  },
  {
   "cell_type": "code",
   "execution_count": 2,
   "id": "238c0ef2-5123-4860-b19c-7c95ebb0396b",
   "metadata": {},
   "outputs": [],
   "source": [
    "# Create the main window\n",
    "root = tk.Tk()\n",
    "app = CursorControlApp(root)\n",
    "root.mainloop()"
   ]
  },
  {
   "cell_type": "code",
   "execution_count": null,
   "id": "75c72a06-ff8d-4e89-95e3-a48555568a92",
   "metadata": {},
   "outputs": [],
   "source": []
  }
 ],
 "metadata": {
  "kernelspec": {
   "display_name": "bbcpy_env",
   "language": "python",
   "name": "bbcpy_env"
  },
  "language_info": {
   "codemirror_mode": {
    "name": "ipython",
    "version": 3
   },
   "file_extension": ".py",
   "mimetype": "text/x-python",
   "name": "python",
   "nbconvert_exporter": "python",
   "pygments_lexer": "ipython3",
   "version": "3.10.9"
  }
 },
 "nbformat": 4,
 "nbformat_minor": 5
}
