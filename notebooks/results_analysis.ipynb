{
 "cells": [
  {
   "cell_type": "code",
   "execution_count": 1,
   "id": "63b2e70f-b950-4b1a-8bc9-93585e912d84",
   "metadata": {},
   "outputs": [],
   "source": [
    "import pandas as pd\n",
    "import scipy.stats as stats"
   ]
  },
  {
   "cell_type": "code",
   "execution_count": null,
   "id": "1246ec90-d409-413a-9506-bfc8747db445",
   "metadata": {},
   "outputs": [],
   "source": []
  },
  {
   "cell_type": "markdown",
   "id": "9fb11c05-7bf8-4bd6-a265-08808b3759d5",
   "metadata": {},
   "source": [
    "## ANOVA (Analysis of Variance)  (Dataset)"
   ]
  },
  {
   "cell_type": "markdown",
   "id": "a0a7d0e8-48d8-4e02-b58a-4328f6bb36a4",
   "metadata": {},
   "source": [
    "\r\n",
    "ANOVA (Analysis of Variance) is a statistical test used to compare the means of two or more groups to determine if there are any statistically significant differences between them. It is commonly used when you have multiple groups and want to understand whether the variation between the group means is greater than the variation within the groups."
   ]
  },
  {
   "cell_type": "code",
   "execution_count": null,
   "id": "e883f900-5b0e-457f-8e13-de58f238ccaf",
   "metadata": {},
   "outputs": [],
   "source": []
  },
  {
   "cell_type": "code",
   "execution_count": 2,
   "id": "bc303334-58fd-4ea2-b65a-df4d3b29384e",
   "metadata": {},
   "outputs": [],
   "source": [
    "# Assuming you have three groups, you can add more groups as needed.\n",
    "group1 = [10, 12, 14, 16, 18]\n",
    "group2 = [20, 22, 24, 26, 28]\n",
    "group3 = [30, 32, 34, 36, 38]\n",
    "\n",
    "# Perform the ANOVA\n",
    "f_statistic, p_value = stats.f_oneway(group1, group2, group3)"
   ]
  },
  {
   "cell_type": "code",
   "execution_count": 3,
   "id": "54468898-76dc-4c1c-9ade-b43d46b55ec9",
   "metadata": {},
   "outputs": [
    {
     "name": "stdout",
     "output_type": "stream",
     "text": [
      "Reject null hypothesis: There is a significant difference between the group means.\n"
     ]
    }
   ],
   "source": [
    "alpha = 0.05  # Set your significance level\n",
    "if p_value < alpha:\n",
    "    print(\"Reject null hypothesis: There is a significant difference between the group means.\")\n",
    "else:\n",
    "    print(\"Fail to reject null hypothesis: There is no significant difference between the group means.\")"
   ]
  },
  {
   "cell_type": "markdown",
   "id": "c2c0f67b-d734-4a16-a2ec-5985b5a51b53",
   "metadata": {},
   "source": [
    "In this example, if the p-value is less than the significance level (usually 0.05), you can conclude that there is a significant difference between at least one pair of groups.\n",
    "\n",
    "Keep in mind that ANOVA assumes the data follows a normal distribution and has equal variances between groups. If your data violates these assumptions, you might consider using non-parametric tests or data transformations before applying ANOVA."
   ]
  },
  {
   "cell_type": "code",
   "execution_count": 4,
   "id": "2f63b77f-c787-49d1-b68d-40de3fe54ecf",
   "metadata": {},
   "outputs": [
    {
     "ename": "ModuleNotFoundError",
     "evalue": "No module named 'seaborn'",
     "output_type": "error",
     "traceback": [
      "\u001b[1;31m---------------------------------------------------------------------------\u001b[0m",
      "\u001b[1;31mModuleNotFoundError\u001b[0m                       Traceback (most recent call last)",
      "Cell \u001b[1;32mIn[4], line 1\u001b[0m\n\u001b[1;32m----> 1\u001b[0m \u001b[38;5;28;01mimport\u001b[39;00m \u001b[38;5;21;01mseaborn\u001b[39;00m \u001b[38;5;28;01mas\u001b[39;00m \u001b[38;5;21;01msns\u001b[39;00m\n\u001b[0;32m      2\u001b[0m \u001b[38;5;28;01mimport\u001b[39;00m \u001b[38;5;21;01mmatplotlib\u001b[39;00m\u001b[38;5;21;01m.\u001b[39;00m\u001b[38;5;21;01mpyplot\u001b[39;00m \u001b[38;5;28;01mas\u001b[39;00m \u001b[38;5;21;01mplt\u001b[39;00m\n\u001b[0;32m      4\u001b[0m \u001b[38;5;66;03m# Assuming you have a DataFrame with 'group' column and 'metric' column\u001b[39;00m\n\u001b[0;32m      5\u001b[0m \u001b[38;5;66;03m# df = pd.DataFrame({'group': ['A']*5 + ['B']*5 + ['C']*5, 'metric': [10, 12, 14, 16, 18, 20, 22, 24, 26, 28, 30, 32, 34, 36, 38]})\u001b[39;00m\n\u001b[0;32m      6\u001b[0m \n\u001b[0;32m      7\u001b[0m \u001b[38;5;66;03m# Bar plot\u001b[39;00m\n",
      "\u001b[1;31mModuleNotFoundError\u001b[0m: No module named 'seaborn'"
     ]
    }
   ],
   "source": [
    "import seaborn as sns\n",
    "import matplotlib.pyplot as plt\n",
    "\n",
    "# Assuming you have a DataFrame with 'group' column and 'metric' column\n",
    "# df = pd.DataFrame({'group': ['A']*5 + ['B']*5 + ['C']*5, 'metric': [10, 12, 14, 16, 18, 20, 22, 24, 26, 28, 30, 32, 34, 36, 38]})\n",
    "\n",
    "# Bar plot\n",
    "sns.barplot(x='group', y='metric', data=df)\n",
    "plt.title('Bar Plot')\n",
    "plt.show()\n",
    "\n",
    "# Box plot\n",
    "sns.boxplot(x='group', y='metric', data=df)\n",
    "plt.title('Box Plot')\n",
    "plt.show()\n",
    "\n",
    "# Violin plot\n",
    "sns.violinplot(x='group', y='metric', data=df)\n",
    "plt.title('Violin Plot')\n",
    "plt.show()"
   ]
  },
  {
   "cell_type": "code",
   "execution_count": null,
   "id": "4a8a1a4d-dec2-4895-a0e8-a3254b3f9d49",
   "metadata": {},
   "outputs": [],
   "source": []
  }
 ],
 "metadata": {
  "kernelspec": {
   "display_name": "bbcpy_env",
   "language": "python",
   "name": "bbcpy_env"
  },
  "language_info": {
   "codemirror_mode": {
    "name": "ipython",
    "version": 3
   },
   "file_extension": ".py",
   "mimetype": "text/x-python",
   "name": "python",
   "nbconvert_exporter": "python",
   "pygments_lexer": "ipython3",
   "version": "3.10.9"
  }
 },
 "nbformat": 4,
 "nbformat_minor": 5
}
