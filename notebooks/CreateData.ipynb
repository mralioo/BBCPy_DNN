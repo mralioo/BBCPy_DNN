{
 "cells": [
  {
   "cell_type": "code",
   "execution_count": 58,
   "id": "faf4d50b-67f2-4318-abda-d28ee4b27ddf",
   "metadata": {},
   "outputs": [],
   "source": [
    "import numpy as np \n",
    "import math\n",
    "import os \n",
    "import sys \n",
    "import random\n",
    "import pandas as pd\n",
    "from tqdm import tqdm\n",
    "\n",
    "module_path = os.path.abspath(os.path.join('..'))\n",
    "if module_path not in sys.path:\n",
    "    sys.path.append(module_path)\n",
    "\n",
    "from datasets.preprocess_utils import * \n",
    "from datasets.utils import * "
   ]
  },
  {
   "cell_type": "code",
   "execution_count": 3,
   "id": "c006f9df-288c-4a05-9311-5dfc281a44db",
   "metadata": {},
   "outputs": [],
   "source": [
    "RAW_DATA_PATH = os.path.join(module_path,\"data/SMR/raw\")\n",
    "PREPROCESS_DATA_PATH = os.path.join(module_path,\"data/SMR/processed\")\n",
    "STATS_SUBJECTS_PATH = os.path.join(module_path, \"data/SMR/stats/subjects\")\n",
    "if not os.path.exists(STATS_SUBJECTS_PATH):\n",
    "    os.mkdir(STATS_SUBJECTS_PATH)\n",
    "STATS_TRIALS_PATH = os.path.join(module_path, \"data/SMR/stats/trials\")\n",
    "if not os.path.exists(STATS_TRIALS_PATH):\n",
    "    os.mkdir(STATS_TRIALS_PATH)"
   ]
  },
  {
   "cell_type": "code",
   "execution_count": null,
   "id": "9674c3cc-0bc7-4d71-9890-6e9445126209",
   "metadata": {},
   "outputs": [],
   "source": [
    "RAW_DATA_PATH = os.path.join(module_path,\"../SMR_2021_RAW_DATA\")\n",
    "PREPROCESS_DATA_PATH = os.path.join(module_path,\"../processed\")\n",
    "if not os.path.exists(PREPROCESS_DATA_PATH):\n",
    "    os.mkdir(PREPROCESS_DATA_PATH)\n",
    "STATS_SUBJECTS_PATH = os.path.join(module_path, \"../processed/subjects\")\n",
    "if not os.path.exists(STATS_SUBJECTS_PATH):\n",
    "    os.mkdir(STATS_SUBJECTS_PATH)\n",
    "STATS_TRIALS_PATH = os.path.join(module_path, \"../processed/trials\")\n",
    "if not os.path.exists(STATS_TRIALS_PATH):\n",
    "    os.mkdir(STATS_TRIALS_PATH)"
   ]
  },
  {
   "cell_type": "code",
   "execution_count": 7,
   "id": "f7c4d690-0251-4639-a175-4350959d7320",
   "metadata": {},
   "outputs": [
    {
     "name": "stdout",
     "output_type": "stream",
     "text": [
      "Subject S4 : Loading data of Session_3 from 1/1 sessions  \r"
     ]
    }
   ],
   "source": [
    "subjects_eeg_data_dict = load_all_eeg_data(RAW_DATA_PATH , outdir=PREPROCESS_DATA_PATH) "
   ]
  },
  {
   "cell_type": "code",
   "execution_count": 59,
   "id": "3f5da412-72b2-4c17-8c3e-2b3cbdf2e87f",
   "metadata": {},
   "outputs": [],
   "source": [
    "subjects_trial_info_dict = load_subjects_trials_stats(RAW_DATA_PATH, outdir=STATS_TRIALS_PATH)"
   ]
  },
  {
   "cell_type": "code",
   "execution_count": 5,
   "id": "bd3924f7-64a8-4000-8a8b-fe2ac7cdd2e9",
   "metadata": {},
   "outputs": [],
   "source": [
    "subjects_info_dict = load_subjects_info(RAW_DATA_PATH, outdir=STATS_SUBJECTS_PATH)"
   ]
  },
  {
   "cell_type": "code",
   "execution_count": 26,
   "id": "0ce95d9d-4b65-4182-87e5-1e4a58ad006a",
   "metadata": {},
   "outputs": [
    {
     "data": {
      "text/plain": [
       "{'Y': 0, 'N': 3}"
      ]
     },
     "execution_count": 26,
     "metadata": {},
     "output_type": "execute_result"
    }
   ],
   "source": [
    "get_subjects_stats(subjects_info_dict, filters=\"handsport\")"
   ]
  },
  {
   "cell_type": "code",
   "execution_count": 34,
   "id": "6a2980e7-942f-4b84-bdb7-63a253b0441e",
   "metadata": {},
   "outputs": [],
   "source": [
    "def list_all_files(data_path, pattern=\"*.mat\"):\n",
    "    DATA_PATH = Path(data_path)\n",
    "    mat_files = []\n",
    "\n",
    "    for file in DATA_PATH.glob(pattern):\n",
    "        mat_files.append(file)\n",
    "\n",
    "    group_files = {}\n",
    "    for f in mat_files:\n",
    "        res = f.stem.split(\"_\", 1)\n",
    "        if len(res) > 1:\n",
    "            if res[0] in group_files:\n",
    "                group_files[res[0]][res[1]] = f\n",
    "            else:\n",
    "                group_files[res[0]] = {}\n",
    "                group_files[res[0]][res[1]] = f\n",
    "        else:\n",
    "            group_files[res[0]] = f\n",
    "\n",
    "    return group_files"
   ]
  },
  {
   "cell_type": "code",
   "execution_count": 35,
   "id": "0c488335-684b-47c1-955c-1cbe279b545c",
   "metadata": {},
   "outputs": [
    {
     "data": {
      "text/plain": [
       "{'S1': PosixPath('/media/alioo/database/02_MA/MA/code/bbcpy_AutoML/data/SMR/stats/subjects/S1.pkl'),\n",
       " 'S3': PosixPath('/media/alioo/database/02_MA/MA/code/bbcpy_AutoML/data/SMR/stats/subjects/S3.pkl'),\n",
       " 'S4': PosixPath('/media/alioo/database/02_MA/MA/code/bbcpy_AutoML/data/SMR/stats/subjects/S4.pkl')}"
      ]
     },
     "execution_count": 35,
     "metadata": {},
     "output_type": "execute_result"
    }
   ],
   "source": [
    "list_all_files(STATS_SUBJECTS_PATH, pattern=\"*.pkl\")"
   ]
  },
  {
   "cell_type": "code",
   "execution_count": 36,
   "id": "e6df94ed-72e6-4e78-bb5a-ba0edd3f5ab3",
   "metadata": {},
   "outputs": [],
   "source": [
    "def load_dict_pkl(path_name):\n",
    "    res_dict = {}\n",
    "    group_files = list_all_files(path_name, pattern=\"*.pkl\")\n",
    "    for _, subject_value in group_files.items():\n",
    "        if isinstance(subject_value, dict):\n",
    "            for _, session_path in subject_value.items():\n",
    "                with open(session_path, \"rb\") as f:\n",
    "                    res_dict.update(pickle.load(f))\n",
    "        else:\n",
    "            with open(subject_value, \"rb\") as f:\n",
    "                res_dict.update(pickle.load(f))\n",
    "    return res_dict"
   ]
  },
  {
   "cell_type": "code",
   "execution_count": 39,
   "id": "345b83ae-5aed-45ef-a8b5-180ed4c93d79",
   "metadata": {
    "tags": []
   },
   "outputs": [
    {
     "ename": "AttributeError",
     "evalue": "'dict_values' object has no attribute 'keys'",
     "output_type": "error",
     "traceback": [
      "\u001b[0;31m---------------------------------------------------------------------------\u001b[0m",
      "\u001b[0;31mAttributeError\u001b[0m                            Traceback (most recent call last)",
      "Input \u001b[0;32mIn [39]\u001b[0m, in \u001b[0;36m<cell line: 1>\u001b[0;34m()\u001b[0m\n\u001b[0;32m----> 1\u001b[0m \u001b[43mload_dict_pkl\u001b[49m\u001b[43m(\u001b[49m\u001b[43mSTATS_TRIALS_PATH\u001b[49m\u001b[43m)\u001b[49m\u001b[38;5;241;43m.\u001b[39;49m\u001b[43mvalues\u001b[49m\u001b[43m(\u001b[49m\u001b[43m)\u001b[49m\u001b[38;5;241;43m.\u001b[39;49m\u001b[43mkeys\u001b[49m()\n",
      "\u001b[0;31mAttributeError\u001b[0m: 'dict_values' object has no attribute 'keys'"
     ]
    }
   ],
   "source": [
    "load_dict_pkl(STATS_TRIALS_PATH).values()"
   ]
  },
  {
   "cell_type": "code",
   "execution_count": null,
   "id": "77f90d25-da48-4e13-9fd7-93ee6e787e39",
   "metadata": {},
   "outputs": [],
   "source": []
  },
  {
   "cell_type": "code",
   "execution_count": 23,
   "id": "823bb094-8d9c-42de-b663-423ef9cb22bd",
   "metadata": {},
   "outputs": [],
   "source": [
    "def load_dict_pkl(path_name):\n",
    "    res_dict = {}\n",
    "    group_files = list_all_files(path_name, pattern=\"*.pkl\")\n",
    "    for subject, subject_path in group_files.items():\n",
    "        with open(subject_path, \"rb\") as f:\n",
    "            res_dict.update(pickle.load(f))\n",
    "    return res_dict"
   ]
  },
  {
   "cell_type": "code",
   "execution_count": 46,
   "id": "b85371ff-aa88-4742-bb37-1bce60aeb2d5",
   "metadata": {},
   "outputs": [],
   "source": [
    "trial_info_dict = load_dict_pkl(STATS_TRIALS_PATH)\n",
    "subjects_info_dict = load_dict_pkl(STATS_SUBJECTS_PATH)"
   ]
  },
  {
   "cell_type": "code",
   "execution_count": 50,
   "id": "b055e18a-e017-4085-99a4-db4b4b0e1cf4",
   "metadata": {},
   "outputs": [
    {
     "data": {
      "text/plain": [
       "{'R': 3, 'L': 0}"
      ]
     },
     "execution_count": 50,
     "metadata": {},
     "output_type": "execute_result"
    }
   ],
   "source": [
    "get_subjects_stats(subjects_info_dict, filters=\"handedness\")"
   ]
  },
  {
   "cell_type": "code",
   "execution_count": 45,
   "id": "75621583-b752-4c74-96a1-6c87878be336",
   "metadata": {
    "collapsed": true,
    "jupyter": {
     "outputs_hidden": true
    },
    "tags": []
   },
   "outputs": [
    {
     "data": {
      "text/plain": [
       "{'result': array([nan,  1., nan,  0.,  0., nan,  0.,  1., nan,  1.,  1., nan,  1.,\n",
       "         1.,  1.,  1.,  0.,  1.,  1.,  1.,  1.,  1.,  0.,  0., nan,  1.,\n",
       "         1.,  0.,  1.,  1., nan,  1.,  1.,  1.,  1., nan,  1., nan,  1.,\n",
       "        nan,  0.,  1., nan,  1.,  1.,  1.,  1.,  1.,  0.,  1.,  1.,  1.,\n",
       "         1.,  1.,  1.,  1.,  1.,  0.,  0., nan,  0.,  1., nan,  0., nan,\n",
       "         1.,  1.,  1.,  1.,  1.,  1.,  1.,  1.,  1.,  1.,  1.,  1.,  0.,\n",
       "        nan,  1.,  1.,  1.,  1.,  0.,  1.,  1.,  1.,  1.,  1.,  1.,  1.,\n",
       "        nan,  1.,  1., nan, nan,  1.,  1., nan,  1.,  1.,  1.,  1.,  1.,\n",
       "         1.,  1.,  1.,  1.,  1.,  1.,  0.,  1.,  1.,  1.,  1., nan,  1.,\n",
       "         1.,  1., nan,  1.,  1.,  1.,  1.,  1.,  1.,  1.,  1.,  1.,  1.,\n",
       "         1.,  1., nan,  1., nan,  1.,  1.,  1.,  1.,  1.,  1.,  1.,  1.,\n",
       "         1.,  1.,  1.,  1.,  1.,  1.,  1.,  0.,  0.,  0.,  1.,  1.,  1.,\n",
       "         1.,  0., nan,  1.,  1.,  0.,  1.,  1.,  1.,  1.,  0.,  0.,  0.,\n",
       "         0.,  0.,  1.,  1.,  1., nan, nan,  0.,  1.,  0.,  1.,  0.,  0.,\n",
       "         1.,  0.,  0., nan,  1.,  0.,  0.,  0.,  0.,  0.,  0., nan,  0.,\n",
       "         0.,  1., nan, nan,  1.,  1.,  1.,  0.,  0.,  1.,  0.,  1.,  0.,\n",
       "         1.,  1.,  0.,  1., nan,  1.,  0.,  0.,  1.,  1., nan,  1., nan,\n",
       "         1.,  1.,  1.,  1., nan,  1.,  1.,  1., nan,  1.,  1., nan,  1.,\n",
       "         1., nan,  1.,  1., nan,  1.,  0.,  1., nan,  1., nan, nan,  1.,\n",
       "         1., nan, nan,  0.,  1.,  1.,  1.,  1.,  1., nan, nan,  1., nan,\n",
       "         1.,  1., nan,  1.,  1.,  1., nan,  1.,  0., nan,  1.,  1.,  1.,\n",
       "         1.,  1.,  0.,  1.,  1.,  1.,  1.,  1.,  1.,  1.,  0.,  0.,  1.,\n",
       "         1.,  0.,  0.,  0.,  1.,  1.,  1., nan, nan,  1.,  1.,  1.,  1.,\n",
       "        nan,  0.,  1.,  0.,  1.,  0.,  1., nan,  1., nan,  1.,  1.,  1.,\n",
       "        nan, nan,  1.,  1.,  1., nan,  1.,  0.,  0.,  1.,  1.,  1.,  1.,\n",
       "         1.,  0.,  1.,  0.,  1.,  0.,  1.,  1.,  1.,  1.,  1., nan,  1.,\n",
       "         1.,  1.,  1., nan,  1.,  1.,  1.,  1.,  1.,  1.,  1.,  1.,  1.,\n",
       "         1.,  1.,  1.,  1.,  1.,  0., nan,  1.,  1.,  1.,  1.,  1., nan,\n",
       "         1.,  0.,  0.,  1.,  1.,  1.,  1.,  1.,  1.,  1., nan,  0.,  0.,\n",
       "         0.,  0.,  0.,  0.,  0.,  1.,  1., nan,  1.,  0.,  0.,  1.,  0.,\n",
       "         0.,  0.,  0.,  1.,  0.,  0.,  0.,  1.,  1.,  1.,  1.,  1.,  1.,\n",
       "         1.,  1.,  0.,  1.,  1.,  1.,  0.,  1.,  1.,  1.,  1.,  1., nan,\n",
       "         0.,  1.,  1.,  1.,  0.,  1.,  1.,  1.,  1.,  1.,  1.,  1.,  1.,\n",
       "         1.,  1.,  1.,  0.,  1.,  1.,  1.,  0.,  1.,  1.,  1.,  1.,  0.,\n",
       "         1.,  0.,  0.,  1.,  0.,  1.,  1.,  0.]),\n",
       " 'forcedresult': array([ True,  True,  True, False, False,  True, False,  True, False,\n",
       "         True,  True,  True,  True,  True,  True,  True, False,  True,\n",
       "         True,  True,  True,  True, False, False,  True,  True,  True,\n",
       "        False,  True,  True, False,  True,  True,  True,  True,  True,\n",
       "         True, False,  True,  True, False,  True, False,  True,  True,\n",
       "         True,  True,  True, False,  True,  True,  True,  True,  True,\n",
       "         True,  True,  True, False, False,  True, False,  True, False,\n",
       "        False,  True,  True,  True,  True,  True,  True,  True,  True,\n",
       "         True,  True,  True,  True,  True, False,  True,  True,  True,\n",
       "         True,  True, False,  True,  True,  True,  True,  True,  True,\n",
       "         True,  True,  True,  True,  True, False,  True,  True,  True,\n",
       "         True,  True,  True,  True,  True,  True,  True,  True,  True,\n",
       "         True,  True, False,  True,  True,  True,  True,  True,  True,\n",
       "         True,  True, False,  True,  True,  True,  True,  True,  True,\n",
       "         True,  True,  True,  True,  True,  True,  True,  True,  True,\n",
       "         True,  True,  True,  True,  True,  True,  True,  True,  True,\n",
       "         True,  True,  True,  True,  True,  True, False, False, False,\n",
       "         True,  True,  True,  True, False,  True,  True,  True, False,\n",
       "         True,  True,  True,  True, False, False, False, False, False,\n",
       "         True,  True,  True,  True, False, False,  True, False,  True,\n",
       "        False, False,  True, False, False,  True,  True, False, False,\n",
       "        False, False, False, False, False, False, False,  True, False,\n",
       "        False,  True,  True,  True, False, False,  True, False,  True,\n",
       "        False,  True,  True, False,  True, False,  True, False, False,\n",
       "         True,  True, False,  True, False,  True,  True,  True,  True,\n",
       "         True,  True,  True,  True,  True,  True,  True, False,  True,\n",
       "         True, False,  True,  True,  True,  True, False,  True, False,\n",
       "         True,  True, False,  True,  True, False, False, False,  True,\n",
       "         True,  True,  True,  True,  True,  True,  True,  True,  True,\n",
       "         True,  True,  True,  True,  True, False,  True, False, False,\n",
       "         True,  True,  True,  True,  True, False,  True,  True,  True,\n",
       "         True,  True,  True,  True, False, False,  True,  True, False,\n",
       "        False, False,  True,  True,  True,  True,  True,  True,  True,\n",
       "         True,  True, False, False,  True, False,  True, False,  True,\n",
       "         True,  True,  True,  True,  True,  True, False,  True,  True,\n",
       "         True,  True,  True,  True, False, False,  True,  True,  True,\n",
       "         True,  True, False,  True, False,  True, False,  True,  True,\n",
       "         True,  True,  True,  True,  True,  True,  True,  True, False,\n",
       "         True,  True,  True,  True,  True,  True,  True,  True,  True,\n",
       "         True,  True,  True,  True,  True, False,  True,  True,  True,\n",
       "         True,  True,  True,  True,  True, False, False,  True,  True,\n",
       "         True,  True,  True,  True,  True,  True, False, False, False,\n",
       "        False, False, False, False,  True,  True, False,  True, False,\n",
       "        False,  True, False, False, False, False,  True, False, False,\n",
       "        False,  True,  True,  True,  True,  True,  True,  True,  True,\n",
       "        False,  True,  True,  True, False,  True,  True,  True,  True,\n",
       "         True, False, False,  True,  True,  True, False,  True,  True,\n",
       "         True,  True,  True,  True,  True,  True,  True,  True,  True,\n",
       "        False,  True,  True,  True, False,  True,  True,  True,  True,\n",
       "        False,  True, False, False,  True, False,  True,  True, False]),\n",
       " 'triallength': array([6.04, 1.36, 6.04, 4.24, 3.48, 6.04, 0.68, 0.8 , 6.04, 1.48, 0.56,\n",
       "        6.04, 0.92, 3.24, 4.32, 0.92, 1.96, 2.28, 3.16, 0.88, 5.52, 5.28,\n",
       "        1.52, 5.24, 6.04, 1.6 , 5.08, 5.8 , 2.12, 0.48, 6.04, 3.84, 1.88,\n",
       "        2.52, 0.8 , 6.04, 0.96, 6.04, 1.08, 6.04, 2.6 , 1.88, 6.04, 1.8 ,\n",
       "        3.88, 1.88, 1.28, 4.84, 1.6 , 0.76, 1.32, 2.12, 3.24, 1.2 , 2.16,\n",
       "        4.6 , 5.6 , 4.44, 0.16, 6.04, 0.6 , 3.44, 6.04, 5.32, 6.04, 2.24,\n",
       "        0.56, 2.24, 1.88, 1.04, 0.76, 2.4 , 2.6 , 1.84, 0.52, 1.96, 0.56,\n",
       "        2.  , 6.04, 1.44, 5.64, 3.88, 1.88, 4.4 , 5.04, 2.12, 2.24, 3.24,\n",
       "        0.92, 3.2 , 2.12, 6.04, 1.28, 5.68, 6.04, 6.04, 1.8 , 3.88, 6.04,\n",
       "        4.92, 3.68, 1.68, 2.24, 0.8 , 1.44, 3.32, 1.28, 1.32, 4.72, 2.8 ,\n",
       "        3.76, 2.8 , 2.32, 4.2 , 2.36, 6.04, 0.84, 2.12, 3.2 , 6.04, 2.56,\n",
       "        4.44, 1.8 , 5.32, 1.72, 0.68, 4.08, 5.36, 2.68, 4.44, 1.24, 1.56,\n",
       "        6.04, 4.84, 6.04, 4.2 , 0.24, 5.24, 2.36, 1.68, 4.  , 1.64, 2.2 ,\n",
       "        1.04, 1.24, 1.64, 2.24, 5.84, 1.36, 3.48, 3.32, 3.8 , 1.2 , 4.84,\n",
       "        4.4 , 2.96, 2.84, 4.08, 6.04, 1.92, 1.32, 2.88, 3.72, 3.08, 3.12,\n",
       "        3.32, 2.96, 1.84, 2.16, 2.12, 2.2 , 3.52, 0.4 , 1.72, 6.04, 6.04,\n",
       "        2.32, 0.64, 3.24, 3.52, 3.04, 3.68, 2.84, 2.64, 2.04, 6.04, 1.08,\n",
       "        2.12, 4.  , 1.52, 0.4 , 5.68, 1.72, 6.04, 3.2 , 4.08, 0.92, 6.04,\n",
       "        6.04, 1.96, 4.24, 2.28, 0.32, 1.8 , 2.  , 1.96, 2.16, 3.24, 2.32,\n",
       "        5.04, 0.44, 1.48, 6.04, 3.32, 2.92, 5.04, 1.96, 2.76, 6.04, 2.44,\n",
       "        6.04, 1.52, 4.84, 2.96, 0.68, 6.04, 3.68, 4.08, 3.08, 6.04, 4.16,\n",
       "        1.2 , 6.04, 5.96, 5.68, 6.04, 1.48, 1.4 , 6.04, 1.84, 2.28, 3.76,\n",
       "        6.04, 2.12, 6.04, 6.04, 2.28, 1.4 , 6.04, 6.04, 2.28, 2.68, 2.44,\n",
       "        1.68, 2.64, 1.16, 6.04, 6.04, 4.44, 6.04, 1.4 , 5.64, 6.04, 2.12,\n",
       "        2.88, 3.08, 6.04, 2.48, 5.12, 6.04, 1.08, 2.16, 4.8 , 3.52, 2.12,\n",
       "        4.68, 4.36, 4.96, 4.6 , 2.  , 2.12, 3.  , 0.68, 0.76, 2.24, 5.04,\n",
       "        5.16, 3.12, 2.08, 4.16, 3.  , 0.96, 3.  , 6.04, 6.04, 1.84, 3.6 ,\n",
       "        1.28, 1.16, 6.04, 3.92, 0.24, 5.76, 2.4 , 1.24, 1.6 , 6.04, 3.68,\n",
       "        6.04, 3.76, 5.6 , 0.8 , 6.04, 6.04, 1.04, 2.08, 3.  , 6.04, 2.36,\n",
       "        2.68, 4.28, 1.88, 3.28, 2.32, 1.2 , 2.32, 0.88, 3.32, 2.76, 2.36,\n",
       "        5.96, 3.76, 2.24, 4.64, 3.2 , 4.2 , 6.04, 3.76, 2.72, 1.88, 1.32,\n",
       "        6.04, 5.6 , 1.88, 1.32, 2.32, 4.32, 1.64, 4.96, 4.2 , 1.84, 2.56,\n",
       "        2.88, 2.16, 1.  , 1.12, 2.6 , 6.04, 2.48, 4.  , 1.16, 2.  , 1.36,\n",
       "        6.04, 2.72, 5.64, 3.96, 1.6 , 2.36, 2.08, 2.04, 1.64, 2.28, 0.88,\n",
       "        6.04, 4.2 , 4.28, 1.08, 4.08, 0.4 , 3.28, 0.52, 4.16, 1.4 , 6.04,\n",
       "        3.64, 1.  , 1.76, 4.24, 3.44, 0.48, 3.84, 0.88, 1.6 , 4.72, 2.48,\n",
       "        1.64, 1.8 , 1.44, 4.64, 0.96, 4.56, 1.96, 4.92, 0.56, 2.32, 2.  ,\n",
       "        2.76, 4.  , 3.16, 1.6 , 2.8 , 2.2 , 5.96, 0.44, 6.04, 1.28, 2.32,\n",
       "        6.  , 3.96, 4.04, 3.28, 2.28, 2.72, 3.6 , 3.6 , 1.6 , 1.92, 1.04,\n",
       "        2.16, 5.92, 5.48, 5.4 , 3.8 , 1.32, 1.4 , 2.48, 2.6 , 1.28, 1.04,\n",
       "        1.6 , 2.08, 1.28, 3.4 , 2.8 , 1.48, 2.36, 1.04, 2.76, 5.4 ])}"
      ]
     },
     "execution_count": 45,
     "metadata": {},
     "output_type": "execute_result"
    }
   ],
   "source": [
    "trial_info_dict[\"S1\"][\"Session_10\"]"
   ]
  },
  {
   "cell_type": "code",
   "execution_count": 56,
   "id": "9189304e-15d0-4aae-99b2-e82dcc8f0c4a",
   "metadata": {},
   "outputs": [],
   "source": [
    "def get_trial_stats(trial_info_dict):\n",
    "    trial_stat_dict = {}\n",
    "    for subject, sessions in trial_info_dict.items():\n",
    "        trial_stat_dict[subject] = {}\n",
    "        for session_id, values in sessions.items():\n",
    "            trial_stat_dict[subject][session_id] = {}\n",
    "            \n",
    "            true_trials_idx = np.where(np.array(values[\"result\"]) == True)[0]\n",
    "            false_trials_idx = np.where(np.array(values[\"result\"]) == False)[0]\n",
    "            error_trials_idx = np.where(np.isnan(np.array(values[\"result\"])))[0]\n",
    "\n",
    "            trial_stat_dict[subject][session_id][\"true\"] = len(true_trials_idx)\n",
    "            trial_stat_dict[subject][session_id][\"false\"] = len(false_trials_idx)\n",
    "            trial_stat_dict[subject][session_id][\"error\"] = len(error_trials_idx)\n",
    "            trial_stat_dict[subject][session_id][\"mean_triallength\"] = np.mean(np.array(values[\"triallength\"]))\n",
    "            trial_stat_dict[subject][session_id][\"std_triallength\"] = np.std(np.array(values[\"triallength\"]))\n",
    "\n",
    "    return trial_stat_dict"
   ]
  },
  {
   "cell_type": "code",
   "execution_count": 57,
   "id": "3a17d0fe-0a14-42e2-b76b-d3d3fd7bda9e",
   "metadata": {},
   "outputs": [
    {
     "data": {
      "text/plain": [
       "{'S1': {'Session_10': {'true': 292,\n",
       "   'false': 94,\n",
       "   'error': 64,\n",
       "   'mean_triallength': 3.147822222222222,\n",
       "   'std_triallength': 1.7807756523354135},\n",
       "  'Session_1': {'true': 214,\n",
       "   'false': 122,\n",
       "   'error': 114,\n",
       "   'mean_triallength': 3.6125333333333334,\n",
       "   'std_triallength': 1.9549220569856203}},\n",
       " 'S3': {'Session_6': {'true': 178,\n",
       "   'false': 155,\n",
       "   'error': 117,\n",
       "   'mean_triallength': 3.827377777777778,\n",
       "   'std_triallength': 1.8168154714455595}},\n",
       " 'S4': {'Session_3': {'true': 260,\n",
       "   'false': 135,\n",
       "   'error': 55,\n",
       "   'mean_triallength': 2.5747555555555555,\n",
       "   'std_triallength': 1.8266031759714905}}}"
      ]
     },
     "execution_count": 57,
     "metadata": {},
     "output_type": "execute_result"
    }
   ],
   "source": [
    "get_trial_stats(trial_info_dict)"
   ]
  },
  {
   "cell_type": "code",
   "execution_count": 15,
   "id": "2e09f3f7-1f29-49df-8eb7-b1afed370451",
   "metadata": {},
   "outputs": [
    {
     "name": "stdout",
     "output_type": "stream",
     "text": [
      "['S1', 'Session_10']\n",
      "['S1', 'Session_1']\n",
      "['S4', 'Session_3']\n",
      "['S3', 'Session_6']\n"
     ]
    }
   ],
   "source": [
    "group_files = list_all_files(STATS_TRIALS_PATH, pattern=\"*.pkl\")"
   ]
  },
  {
   "cell_type": "code",
   "execution_count": 16,
   "id": "025c5db3-5ca1-4370-b9ec-6e821fa025da",
   "metadata": {},
   "outputs": [
    {
     "data": {
      "text/plain": [
       "{'S1': {'Session_10': PosixPath('/media/alioo/database/02_MA/MA/code/bbcpy_AutoML/data/SMR/stats/trials/S1_Session_10.pkl'),\n",
       "  'Session_1': PosixPath('/media/alioo/database/02_MA/MA/code/bbcpy_AutoML/data/SMR/stats/trials/S1_Session_1.pkl')},\n",
       " 'S4': {'Session_3': PosixPath('/media/alioo/database/02_MA/MA/code/bbcpy_AutoML/data/SMR/stats/trials/S4_Session_3.pkl')},\n",
       " 'S3': {'Session_6': PosixPath('/media/alioo/database/02_MA/MA/code/bbcpy_AutoML/data/SMR/stats/trials/S3_Session_6.pkl')}}"
      ]
     },
     "execution_count": 16,
     "metadata": {},
     "output_type": "execute_result"
    }
   ],
   "source": [
    "group_files"
   ]
  },
  {
   "cell_type": "code",
   "execution_count": null,
   "id": "27641d21-6670-4485-8891-c24e98064fe9",
   "metadata": {},
   "outputs": [],
   "source": [
    "get_size(subjects_dict) / 1000000"
   ]
  },
  {
   "cell_type": "code",
   "execution_count": 5,
   "id": "b40e93a5-a5ca-4cac-9ede-a4be726345c2",
   "metadata": {},
   "outputs": [
    {
     "data": {
      "text/plain": [
       "0.076112"
      ]
     },
     "execution_count": 5,
     "metadata": {},
     "output_type": "execute_result"
    }
   ],
   "source": [
    "get_size(subjects_trial_info_dict) / 1000000"
   ]
  },
  {
   "cell_type": "code",
   "execution_count": 8,
   "id": "6b7f0ced-e84f-4c43-bef9-da56f046d7ac",
   "metadata": {},
   "outputs": [
    {
     "data": {
      "text/plain": [
       "0.570675"
      ]
     },
     "execution_count": 8,
     "metadata": {},
     "output_type": "execute_result"
    }
   ],
   "source": [
    "get_size(subjects_trial_info_dict) / 1000000"
   ]
  },
  {
   "cell_type": "code",
   "execution_count": 7,
   "id": "ac413677-1c6f-4a83-8872-b1d81ae795d9",
   "metadata": {
    "tags": []
   },
   "outputs": [
    {
     "data": {
      "text/plain": [
       "dict_keys(['tasknumber', 'runnumber', 'trialnumber', 'targetnumber', 'triallength', 'targethitnumber', 'resultind', 'result', 'forcedresult', 'artifact'])"
      ]
     },
     "execution_count": 7,
     "metadata": {},
     "output_type": "execute_result"
    }
   ],
   "source": [
    "subjects_trial_info_dict[\"S1\"][\"Session_1\"][\"trial_info\"].keys()"
   ]
  },
  {
   "cell_type": "code",
   "execution_count": null,
   "id": "8ec8f57e-e0ed-4fef-96dc-23072bd1900c",
   "metadata": {},
   "outputs": [],
   "source": []
  },
  {
   "cell_type": "code",
   "execution_count": null,
   "id": "609b0037-7fb1-4086-b53f-8f5367c65373",
   "metadata": {},
   "outputs": [],
   "source": [
    "source = ColumnDataSource(data=data)\n",
    "\n",
    "p = figure(x_range=list(data.keys()), y_range=(0, 18086), height=250,\n",
    "           title=\"subject gender \", toolbar_location=None, tools=\"\")\n",
    "\n",
    "p.vbar(x=dodge('class_name', -0.25, range=p.x_range), top='test', width=0.2, source=source,\n",
    "       color=\"#c9d9d3\", legend_label=\"test\")\n",
    "\n",
    "p.vbar(x=dodge('class_name', 0.0, range=p.x_range), top='vali', width=0.2, source=source,\n",
    "       color=\"#718dbf\", legend_label=\"vali\")\n",
    "\n",
    "p.vbar(x=dodge('class_name', 0.25, range=p.x_range), top='train', width=0.2, source=source,\n",
    "       color=\"#e84d60\", legend_label=\"train\")\n",
    "\n",
    "show(p)\n",
    "\n",
    "num_class = pd.DataFrame.from_dict(num_class)\n",
    "num_class[\"total\"] = num_class.sum(axis=1)"
   ]
  },
  {
   "cell_type": "code",
   "execution_count": null,
   "id": "434b9ffe-cc57-4eb8-ba4a-45a43ad2aa20",
   "metadata": {},
   "outputs": [],
   "source": [
    "\n",
    "trial_dict = {}\n",
    "for subject, sessions in sessions_dict.items():\n",
    "    trial_dict[subject] = {}\n",
    "    for session_id, data in sessions.items():\n",
    "        trial_dict[subject][session_id] = {}\n",
    "        true_trials_idx = np.where(np.array(data[\"trial_info\"][\"result\"]) == True)[0]\n",
    "        false_trials_idx = np.where(np.array(data[\"trial_info\"][\"result\"]) == False)[0]\n",
    "        error_trials_idx = np.where(np.isnan(np.array(data[\"trial_info\"][\"result\"])))[0]\n",
    "        trial_dict[subject][session_id][\"true\"] = true_trials_idx\n",
    "        trial_dict[subject][session_id][\"false\"] = false_trials_idx\n",
    "        trial_dict[subject][session_id][\"error\"] = error_trials_idx"
   ]
  },
  {
   "cell_type": "code",
   "execution_count": null,
   "id": "cd549dbd-cc3b-4e87-89d5-55782ab0ba6d",
   "metadata": {},
   "outputs": [],
   "source": [
    "def get_trial_stats(session_dict):\n",
    "    trial_stat_dict = {}\n",
    "    true_trials_idx = np.where(np.array(session_dict[\"trial_info\"][\"result\"]) == True)[0]\n",
    "    false_trials_idx = np.where(np.array(session_dict[\"trial_info\"][\"result\"]) == False)[0]\n",
    "    error_trials_idx = np.where(np.isnan(np.array(session_dict[\"trial_info\"][\"result\"])))[0]\n",
    "    trial_stat_dict[\"true\"] = len(true_trials_idx)\n",
    "    trial_stat_dict[\"false\"] = len(false_trials_idx)\n",
    "    trial_stat_dict[\"error\"] = len(error_trials_idx)\n",
    "    trial_stat_dict[\"mean_triallength\"] = np.mean(np.array(session_dict[\"trial_info\"][\"triallength\"]))\n",
    "    trial_stat_dict[\"std_triallength\"] = np.std(np.array(session_dict[\"trial_info\"][\"triallength\"]))\n",
    "    return trial_stat_dict"
   ]
  },
  {
   "cell_type": "code",
   "execution_count": null,
   "id": "983d134e-de4f-431c-ae12-002ef061ae4e",
   "metadata": {
    "tags": []
   },
   "outputs": [],
   "source": [
    "trial_dict"
   ]
  },
  {
   "cell_type": "code",
   "execution_count": null,
   "id": "4ce47adf-0262-4091-8130-966dd44f304c",
   "metadata": {},
   "outputs": [],
   "source": []
  },
  {
   "cell_type": "code",
   "execution_count": null,
   "id": "0b4e283a-cc8d-4e70-aaaf-84e5a3ab87ab",
   "metadata": {},
   "outputs": [],
   "source": [
    "source = ColumnDataSource(data=data)\n",
    "\n",
    "p = figure(x_range=list(class_names_dict.keys()), y_range=(0, 18086), height=250,\n",
    "           title=\"Classes counts by Train/Dev/Test split \", toolbar_location=None, tools=\"\")\n",
    "\n",
    "p.vbar(x=dodge('class_name', -0.25, range=p.x_range), top='test', width=0.2, source=source,\n",
    "       color=\"#c9d9d3\", legend_label=\"test\")\n",
    "\n",
    "p.vbar(x=dodge('class_name', 0.0, range=p.x_range), top='vali', width=0.2, source=source,\n",
    "       color=\"#718dbf\", legend_label=\"vali\")\n",
    "\n",
    "p.vbar(x=dodge('class_name', 0.25, range=p.x_range), top='train', width=0.2, source=source,\n",
    "       color=\"#e84d60\", legend_label=\"train\")\n",
    "\n",
    "show(p)\n",
    "\n",
    "num_class = pd.DataFrame.from_dict(num_class)\n",
    "num_class[\"total\"] = num_class.sum(axis=1)"
   ]
  },
  {
   "cell_type": "markdown",
   "id": "7db3016f-698d-42d7-ab71-44fed98844b1",
   "metadata": {},
   "source": [
    "## Prepare data  "
   ]
  },
  {
   "cell_type": "code",
   "execution_count": null,
   "id": "c26b83c3-0624-4aa8-a17f-a7f1489024ea",
   "metadata": {},
   "outputs": [],
   "source": [
    "clab"
   ]
  },
  {
   "cell_type": "code",
   "execution_count": null,
   "id": "52ba754b-feff-4c2e-b3cb-51dab8ac338b",
   "metadata": {},
   "outputs": [],
   "source": [
    "trial_info"
   ]
  },
  {
   "cell_type": "code",
   "execution_count": null,
   "id": "9de740c4-549d-49ec-bf8b-20464bd712a8",
   "metadata": {
    "tags": []
   },
   "outputs": [],
   "source": [
    "trial_info[\"result\"]"
   ]
  },
  {
   "cell_type": "code",
   "execution_count": null,
   "id": "7d0d51ea-3f80-4027-ae6c-9ddbd4a5c21c",
   "metadata": {
    "tags": []
   },
   "outputs": [],
   "source": [
    "trial_info[\"targethitnumber\"]"
   ]
  },
  {
   "cell_type": "code",
   "execution_count": null,
   "id": "9e267392-fa12-41ec-9c7b-d17c42a5daca",
   "metadata": {},
   "outputs": [],
   "source": [
    "def "
   ]
  },
  {
   "cell_type": "code",
   "execution_count": null,
   "id": "ab7efc1c-ace0-4e45-91b7-2f179bd2d934",
   "metadata": {},
   "outputs": [],
   "source": [
    "trial_results = list(zip(trial_info[\"targetnumber\"], trial_info[\"targethitnumber\"],trial_info[\"result\"]))\n",
    "trial_results"
   ]
  },
  {
   "cell_type": "code",
   "execution_count": null,
   "id": "1b98ef57-a83f-441a-8155-023228c5d56c",
   "metadata": {},
   "outputs": [],
   "source": [
    "true_trials_idx = np.where(np.array(trial_info[\"result\"]) == True)[0]\n",
    "false_trials_idx = np.where(np.array(trial_info[\"result\"]) == False)[0]\n",
    "error_trials_idx = np.where(np.isnan(np.array(trial_info[\"result\"])))[0]"
   ]
  },
  {
   "cell_type": "code",
   "execution_count": null,
   "id": "68b4f57c-1ba0-44eb-b0a5-73b4a13f7dfe",
   "metadata": {},
   "outputs": [],
   "source": [
    "trial_len = []\n",
    "for t in timepoints[true_trials_idx]:\n",
    "    trial_len.append(t[-1][-1])\n",
    "    \n",
    "kwargs = dict(alpha=0.5, bins=100, density=False, stacked=True)\n",
    "plt.hist(trial_len, **kwargs)\n",
    "plt.title(\"Duration Distribution of successful trials\")\n",
    "plt.show()\n",
    "\n",
    "trial_len = []\n",
    "for t in timepoints[false_trials_idx]:\n",
    "    trial_len.append(t[-1][-1])\n",
    "    \n",
    "kwargs = dict(alpha=0.5, bins=100, density=False, stacked=True)\n",
    "plt.hist(trial_len, **kwargs)\n",
    "plt.title(\"Duration Distribution of failed trials\")\n",
    "plt.show()\n",
    "\n",
    "trial_len = []\n",
    "for t in timepoints[error_trials_idx]:\n",
    "    trial_len.append(t[-1][-1])\n",
    "    \n",
    "kwargs = dict(alpha=0.5, bins=100, density=False, stacked=True)\n",
    "plt.hist(trial_len, **kwargs)\n",
    "plt.title(\"Duration Distribution of error trials\")\n",
    "plt.show()"
   ]
  },
  {
   "cell_type": "code",
   "execution_count": null,
   "id": "2c1d0cb1-1ff4-4165-b42a-8e6711d39452",
   "metadata": {
    "tags": []
   },
   "outputs": [],
   "source": [
    "np.array(trial_info[\"triallength\"])[true_trials_idx]"
   ]
  },
  {
   "cell_type": "code",
   "execution_count": null,
   "id": "51a9f986-8385-41f6-b4c3-f869251e54f3",
   "metadata": {
    "tags": []
   },
   "outputs": [],
   "source": [
    "[(f.shape,l) for f,l in zip(data[true_trials_idx][0], clab)]"
   ]
  },
  {
   "cell_type": "code",
   "execution_count": null,
   "id": "af3c9a6b-a398-4cb8-a71c-6d3b7b75a1ec",
   "metadata": {},
   "outputs": [],
   "source": [
    "trials = [data[true_trials_idx][idx][chan] for idx in id_rand]\n",
    "len(trials)"
   ]
  },
  {
   "cell_type": "code",
   "execution_count": null,
   "id": "209dc219-f126-4896-b5ba-58b5ec907707",
   "metadata": {
    "tags": []
   },
   "outputs": [],
   "source": [
    "id_rand = [random.randint(0, len(true_trials_idx)) - 1 for d in range(20)]\n",
    "c3 = np.where(clab=='C3')[0][0]\n",
    "c4 = np.where(clab=='C4')[0][0]\n",
    "i,j=0,0\n",
    "PLOTS_PER_ROW = 5\n",
    "PLOTS_PER_COL = math.ceil(20/PLOTS_PER_ROW)\n",
    "fig, axs = plt.subplots(PLOTS_PER_COL,PLOTS_PER_ROW, figsize=(20,10), constrained_layout=True)\n",
    "t_c3= [data[true_trials_idx][idx][c3] for idx in id_rand]\n",
    "t_c4= [data[true_trials_idx][idx][c4] for idx in id_rand]\n",
    "for c3,c4 in zip(t_c3,t_c4):\n",
    "    axs[i][j].plot(c3,label=\"C3\")\n",
    "    axs[i][j].plot(c4,label=\"C4\")\n",
    "    j+=1\n",
    "    if j%PLOTS_PER_ROW==0:\n",
    "        i+=1\n",
    "        j=0\n",
    "plt.legend()\n",
    "plt.show()"
   ]
  },
  {
   "cell_type": "code",
   "execution_count": null,
   "id": "f08835c1-76a3-499e-a564-767f85c3cdda",
   "metadata": {
    "tags": []
   },
   "outputs": [],
   "source": [
    "id_rand = [random.randint(0, len(true_trials_idx)) - 1 for d in range(20)]\n",
    "i,j=0,0\n",
    "PLOTS_PER_ROW = 5\n",
    "PLOTS_PER_COL = math.ceil(62/PLOTS_PER_ROW)\n",
    "fig, axs = plt.subplots(PLOTS_PER_COL,PLOTS_PER_ROW, figsize=(20,20), constrained_layout=True)\n",
    "trial = data[true_trials_idx][0] \n",
    "for t_chan,l_chan in zip(trial, clab):\n",
    "    idx = id_rand[i]\n",
    "    axs[i][j].plot(t_chan)\n",
    "    axs[i][j].set_title(l_chan)\n",
    "    j+=1\n",
    "    if j%PLOTS_PER_ROW==0:\n",
    "        i+=1\n",
    "        j=0\n",
    "\n",
    "plt.show()"
   ]
  },
  {
   "cell_type": "code",
   "execution_count": null,
   "id": "6403a375-d9a7-4bdf-832c-2d780c5578b0",
   "metadata": {},
   "outputs": [],
   "source": [
    "# plot successful  trial \n",
    "trial = data[true_trials_idx[0]]\n",
    "plot_3dSurface_and_heatmap(trial,clab)"
   ]
  },
  {
   "cell_type": "code",
   "execution_count": null,
   "id": "c41ae22a-8ab2-4244-b20d-ceefbb631e66",
   "metadata": {},
   "outputs": [],
   "source": [
    "# plot failed trial \n",
    "trial = data[false_trials_idx[0]]\n",
    "plot_3dSurface_and_heatmap(trial,clab)"
   ]
  },
  {
   "cell_type": "code",
   "execution_count": null,
   "id": "55d7c7d1-7988-4905-bb11-5fa3b36f3ce8",
   "metadata": {},
   "outputs": [],
   "source": [
    "# plot error trial \n",
    "trial = data[error_trials_idx[0]]\n",
    "plot_3dSurface_and_heatmap(trial,clab)"
   ]
  },
  {
   "cell_type": "code",
   "execution_count": null,
   "id": "6d4889ad-d8a4-4a94-9ae9-f021f54c82d0",
   "metadata": {},
   "outputs": [],
   "source": [
    "import os \n",
    "import sys\n",
    "module_path = os.path.abspath(os.path.join('..'))\n",
    "if module_path not in sys.path:\n",
    "    sys.path.append(module_path)\n",
    "\n",
    "from"
   ]
  },
  {
   "cell_type": "code",
   "execution_count": null,
   "id": "8c9f549d-0a75-49da-8f4d-1fc569b693a3",
   "metadata": {},
   "outputs": [],
   "source": []
  },
  {
   "cell_type": "code",
   "execution_count": null,
   "id": "80b6236e-7a25-460d-b4fd-e49767bbe707",
   "metadata": {},
   "outputs": [],
   "source": [
    "import numpy as np\n",
    "import scipy as sp\n",
    "from matplotlib import pyplot as plt\n",
    "\n",
    "def map(eegdata, v=None, clim='minmax', cb_label=''):\n",
    "    '''\n",
    "    Usage:\n",
    "        scalpmap(mnt, v, clim='minmax', cb_label='')\n",
    "    Parameters:\n",
    "        mnt: a 2D array of channel coordinates (channels x 2)\n",
    "        v:   a 1D vector (channels)\n",
    "        clim: limits of color code, either\n",
    "          'minmax' to use the minimum and maximum of the data\n",
    "          'sym' to make limits symmetrical around zero, or\n",
    "          a two element vector giving specific values\n",
    "        cb_label: label for the colorbar\n",
    "    '''\n",
    "    mnt = eegdata.chans.mnt\n",
    "    # interpolate between channels\n",
    "    xi, yi = np.linspace(-1, 1, 100), np.linspace(-1, 1, 100)\n",
    "    xi, yi = np.meshgrid(xi, yi)\n",
    "    rbf = sp.interpolate.Rbf(mnt[:, 0], mnt[:, 1], v, function='linear')\n",
    "    zi = rbf(xi, yi)\n",
    "\n",
    "    # mask area outside of the scalp\n",
    "    a, b, n, r = 50, 50, 100, 50\n",
    "    mask_y, mask_x = np.ogrid[-a:n - a, -b:n - b]\n",
    "    mask = mask_x * mask_x + mask_y * mask_y >= r * r\n",
    "    zi[mask] = np.nan\n",
    "\n",
    "    if clim == 'minmax':\n",
    "        vmin = v.min()\n",
    "        vmax = v.max()\n",
    "    elif clim == 'sym':\n",
    "        vmin = -np.absolute(v).max()\n",
    "        vmax = np.absolute(v).max()\n",
    "    else:\n",
    "        vmin = clim[0]\n",
    "        vmax = clim[1]\n",
    "\n",
    "    plt.imshow(zi, vmin=vmin, vmax=vmax, origin='lower', extent=[-1, 1, -1, 1], cmap='jet')\n",
    "    plt.colorbar(shrink=.5, label=cb_label)\n",
    "    plt.scatter(mnt[:, 0], mnt[:, 1], c='k', marker='+', vmin=vmin, vmax=vmax)\n",
    "    plt.axis('off')"
   ]
  },
  {
   "cell_type": "code",
   "execution_count": null,
   "id": "7a7a8194-ed3c-4e6b-9fe7-e4896933d104",
   "metadata": {},
   "outputs": [],
   "source": [
    "trial = data[true_trials_idx[0]]\n",
    "map(trial)"
   ]
  },
  {
   "cell_type": "markdown",
   "id": "01487656-333a-4f53-8054-8ed686ab8040",
   "metadata": {},
   "source": [
    "### Splitt trails in small snippets \n",
    "### Diffrent sampling rate "
   ]
  }
 ],
 "metadata": {
  "kernelspec": {
   "display_name": "Python 3 (ipykernel)",
   "language": "python",
   "name": "python3"
  },
  "language_info": {
   "codemirror_mode": {
    "name": "ipython",
    "version": 3
   },
   "file_extension": ".py",
   "mimetype": "text/x-python",
   "name": "python",
   "nbconvert_exporter": "python",
   "pygments_lexer": "ipython3",
   "version": "3.10.10"
  }
 },
 "nbformat": 4,
 "nbformat_minor": 5
}
